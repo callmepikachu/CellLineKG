{
 "cells": [
  {
   "cell_type": "code",
   "id": "initial_id",
   "metadata": {
    "ExecuteTime": {
     "end_time": "2025-09-16T06:48:48.141228Z",
     "start_time": "2025-09-16T06:48:47.891922Z"
    }
   },
   "source": [
    "# %%\n",
    "# === 第一步：设置与初始化 ===\n",
    "# 启用自动重载，修改 .py 文件后无需重启内核！\n",
    "%load_ext autoreload\n",
    "%autoreload 2\n"
   ],
   "outputs": [],
   "execution_count": 1
  },
  {
   "cell_type": "code",
   "id": "79ce7fdd63bf41cd",
   "metadata": {
    "ExecuteTime": {
     "end_time": "2025-09-16T06:48:53.552003Z",
     "start_time": "2025-09-16T06:48:48.153537Z"
    }
   },
   "source": [
    "# 导入系统库和项目模块\n",
    "import os\n",
    "import sys\n",
    "import torch\n",
    "import scanpy as sc\n",
    "import numpy as np\n",
    "import pandas as pd\n",
    "\n",
    "# 确保当前目录在 Python 路径中\n",
    "if '.' not in sys.path:\n",
    "    sys.path.insert(0, '.')\n",
    "\n",
    "# 导入我们项目的所有模块\n",
    "from config import *\n",
    "from data_preprocessing import *\n",
    "from graph_construction import *\n",
    "from model import CellLineKGModel\n",
    "from train import train_model\n",
    "from test import evaluate_model\n",
    "\n",
    "print(\"✅ 所有模块导入成功，autoreload 已启用！\")\n"
   ],
   "outputs": [
    {
     "name": "stdout",
     "output_type": "stream",
     "text": [
      "✅ 所有模块导入成功，autoreload 已启用！\n"
     ]
    }
   ],
   "execution_count": 2
  },
  {
   "cell_type": "code",
   "id": "cb290a7e7c326a7f",
   "metadata": {
    "ExecuteTime": {
     "end_time": "2025-09-16T06:49:50.277909Z",
     "start_time": "2025-09-16T06:48:54.082339Z"
    }
   },
   "source": [
    "# %%\n",
    "print(\"🚀 步骤 1: 加载 Tahoe 数据...\")\n",
    "\n",
    "# 设置 Tahoe 数据路径 (请根据实际情况修改)\n",
    "TAHOE_GCS_PATH = \"gs://arc-ctc-tahoe100/2025-02-25/tutorial/plate3_2k-obs.h5ad\"\n",
    "\n",
    "# ========== 开发阶段 ==========\n",
    "adata = load_tahoe_data(TAHOE_GCS_PATH, n_cells=1000)  # ⬅️ 只读1000个细胞！\n",
    "\n",
    "# ========== 正式运行时 ==========\n",
    "# adata = load_tahoe_data(TAHOE_GCS_PATH)  # 读全部数据print(f\"数据加载完成: {adata.shape} (cells x genes)\")\n"
   ],
   "outputs": [
    {
     "name": "stdout",
     "output_type": "stream",
     "text": [
      "🚀 步骤 1: 加载 Tahoe 数据...\n",
      "⚠️  [DEBUG] Subsetting to first 1000 cells.\n",
      "✅ Loaded data: 1000 cells, 62710 genes.\n"
     ]
    }
   ],
   "execution_count": 3
  },
  {
   "cell_type": "code",
   "id": "ceab8380-5a2a-443d-9c61-c49840421387",
   "metadata": {
    "ExecuteTime": {
     "end_time": "2025-09-16T09:30:11.220845Z",
     "start_time": "2025-09-16T09:29:55.732484Z"
    }
   },
   "source": [
    "# %%\n",
    "# === 第二步：加载并预处理 Tahoe 数据 ===\n",
    "print(\"🚀 步骤 1: 加载 Tahoe 数据...\")\n",
    "\n",
    "# 设置 Tahoe 数据路径 (请根据实际情况修改)\n",
    "TAHOE_GCS_PATH = \"gs://arc-ctc-tahoe100/2025-02-25/tutorial/plate3_2k-obs.h5ad\"\n",
    "\n",
    "# 加载数据\n",
    "adata = load_tahoe_data(TAHOE_GCS_PATH)\n",
    "print(f\"数据加载完成: {adata.shape} (cells x genes)\")\n"
   ],
   "outputs": [
    {
     "name": "stdout",
     "output_type": "stream",
     "text": [
      "🚀 步骤 1: 加载 Tahoe 数据...\n",
      "✅ Loaded data: 2000 cells, 62710 genes.\n",
      "数据加载完成: (2000, 62710) (cells x genes)\n"
     ]
    }
   ],
   "execution_count": 4
  },
  {
   "cell_type": "code",
   "id": "b7f3250f6b8824d4",
   "metadata": {
    "ExecuteTime": {
     "end_time": "2025-09-16T09:30:18.030881Z",
     "start_time": "2025-09-16T09:30:15.390446Z"
    }
   },
   "source": [
    "# === 第三步：过滤蛋白节点 ===\n",
    "print(\"🧬 步骤 2: 过滤蛋白节点 (基于表达量)...\")\n",
    "\n",
    "# 根据配置过滤基因\n",
    "filtered_genes = filter_proteins_by_expression(adata, min_cell_lines=MIN_CELL_LINES_FOR_TOP80)\n",
    "print(f\"过滤后保留基因数: {len(filtered_genes)}\")\n"
   ],
   "outputs": [
    {
     "name": "stdout",
     "output_type": "stream",
     "text": [
      "🧬 步骤 2: 过滤蛋白节点 (基于表达量)...\n",
      "Filtered from 62710 to 20602 genes.\n",
      "过滤后保留基因数: 20602\n"
     ]
    }
   ],
   "execution_count": 5
  },
  {
   "cell_type": "code",
   "id": "50a895343a45bbdc",
   "metadata": {
    "ExecuteTime": {
     "end_time": "2025-09-16T10:27:42.731970Z",
     "start_time": "2025-09-16T09:31:36.864709Z"
    }
   },
   "source": [
    "# === 第四步：构建各种边 ===\n",
    "print(\"🔗 步骤 3: 构建异质图的边...\")\n",
    "\n",
    "# 1. 构建 Protein-Protein 边 (PPI)\n",
    "print(f\"  → 构建 PPI 边 (方法: {PPI_BUILD_METHOD})...\")\n",
    "ppi_edges = build_protein_protein_edges(adata, filtered_genes)\n",
    "\n",
    "# 对于后续的 compute_coexpression_ppi 函数，其时间复杂度是 O(n²)。当 n=20602 时，需要计算的基因对数量是：\n",
    "# 20602 × 20601 / 2 ≈ 212,261,301 对"
   ],
   "outputs": [
    {
     "name": "stdout",
     "output_type": "stream",
     "text": [
      "🔗 步骤 3: 构建异质图的边...\n",
      "  → 构建 PPI 边 (方法: coexpression)...\n"
     ]
    },
    {
     "ename": "KeyboardInterrupt",
     "evalue": "",
     "output_type": "error",
     "traceback": [
      "\u001B[1;31m---------------------------------------------------------------------------\u001B[0m",
      "\u001B[1;31mKeyboardInterrupt\u001B[0m                         Traceback (most recent call last)",
      "Cell \u001B[1;32mIn[6], line 6\u001B[0m\n\u001B[0;32m      4\u001B[0m \u001B[38;5;66;03m# 1. 构建 Protein-Protein 边 (PPI)\u001B[39;00m\n\u001B[0;32m      5\u001B[0m \u001B[38;5;28mprint\u001B[39m(\u001B[38;5;124mf\u001B[39m\u001B[38;5;124m\"\u001B[39m\u001B[38;5;124m  → 构建 PPI 边 (方法: \u001B[39m\u001B[38;5;132;01m{\u001B[39;00mPPI_BUILD_METHOD\u001B[38;5;132;01m}\u001B[39;00m\u001B[38;5;124m)...\u001B[39m\u001B[38;5;124m\"\u001B[39m)\n\u001B[1;32m----> 6\u001B[0m ppi_edges \u001B[38;5;241m=\u001B[39m \u001B[43mbuild_protein_protein_edges\u001B[49m\u001B[43m(\u001B[49m\u001B[43madata\u001B[49m\u001B[43m,\u001B[49m\u001B[43m \u001B[49m\u001B[43mfiltered_genes\u001B[49m\u001B[43m)\u001B[49m\n",
      "File \u001B[1;32m~\\Projects\\CellLineKG\\.\\graph_construction.py:104\u001B[0m, in \u001B[0;36mbuild_protein_protein_edges\u001B[1;34m(adata, gene_list)\u001B[0m\n\u001B[0;32m    101\u001B[0m \u001B[38;5;28;01mfrom\u001B[39;00m\u001B[38;5;250m \u001B[39m\u001B[38;5;21;01mdata_preprocessing\u001B[39;00m\u001B[38;5;250m \u001B[39m\u001B[38;5;28;01mimport\u001B[39;00m compute_coexpression_ppi, compute_perturbation_response_similarity\n\u001B[0;32m    103\u001B[0m \u001B[38;5;28;01mif\u001B[39;00m PPI_BUILD_METHOD \u001B[38;5;241m==\u001B[39m \u001B[38;5;124m\"\u001B[39m\u001B[38;5;124mcoexpression\u001B[39m\u001B[38;5;124m\"\u001B[39m:\n\u001B[1;32m--> 104\u001B[0m     \u001B[38;5;28;01mreturn\u001B[39;00m \u001B[43mcompute_coexpression_ppi\u001B[49m\u001B[43m(\u001B[49m\u001B[43madata\u001B[49m\u001B[43m,\u001B[49m\u001B[43m \u001B[49m\u001B[43mgene_list\u001B[49m\u001B[43m,\u001B[49m\u001B[43m \u001B[49m\u001B[43mthreshold\u001B[49m\u001B[38;5;241;43m=\u001B[39;49m\u001B[43mPPI_CORR_THRESHOLD\u001B[49m\u001B[43m)\u001B[49m\n\u001B[0;32m    105\u001B[0m \u001B[38;5;28;01melif\u001B[39;00m PPI_BUILD_METHOD \u001B[38;5;241m==\u001B[39m \u001B[38;5;124m\"\u001B[39m\u001B[38;5;124mperturbation\u001B[39m\u001B[38;5;124m\"\u001B[39m:\n\u001B[0;32m    106\u001B[0m     \u001B[38;5;28;01mreturn\u001B[39;00m compute_perturbation_response_similarity(adata, gene_list, threshold\u001B[38;5;241m=\u001B[39mPPI_PERTURB_THRESHOLD)\n",
      "File \u001B[1;32m~\\Projects\\CellLineKG\\.\\data_preprocessing.py:202\u001B[0m, in \u001B[0;36mcompute_coexpression_ppi\u001B[1;34m(adata, gene_list, threshold)\u001B[0m\n\u001B[0;32m    199\u001B[0m gene_j_expr \u001B[38;5;241m=\u001B[39m expr_matrix[j, :]\n\u001B[0;32m    201\u001B[0m \u001B[38;5;66;03m# Skip if constant (avoid NaN)\u001B[39;00m\n\u001B[1;32m--> 202\u001B[0m \u001B[38;5;28;01mif\u001B[39;00m np\u001B[38;5;241m.\u001B[39mstd(gene_i_expr) \u001B[38;5;241m==\u001B[39m \u001B[38;5;241m0\u001B[39m \u001B[38;5;129;01mor\u001B[39;00m \u001B[43mnp\u001B[49m\u001B[38;5;241;43m.\u001B[39;49m\u001B[43mstd\u001B[49m\u001B[43m(\u001B[49m\u001B[43mgene_j_expr\u001B[49m\u001B[43m)\u001B[49m \u001B[38;5;241m==\u001B[39m \u001B[38;5;241m0\u001B[39m:\n\u001B[0;32m    203\u001B[0m     \u001B[38;5;28;01mcontinue\u001B[39;00m\n\u001B[0;32m    205\u001B[0m corr \u001B[38;5;241m=\u001B[39m np\u001B[38;5;241m.\u001B[39mcorrcoef(gene_i_expr, gene_j_expr)[\u001B[38;5;241m0\u001B[39m, \u001B[38;5;241m1\u001B[39m]\n",
      "File \u001B[1;32m<__array_function__ internals>:5\u001B[0m, in \u001B[0;36mstd\u001B[1;34m(*args, **kwargs)\u001B[0m\n",
      "File \u001B[1;32m~\\miniconda3\\envs\\celllinekg\\lib\\site-packages\\numpy\\core\\fromnumeric.py:3581\u001B[0m, in \u001B[0;36mstd\u001B[1;34m(a, axis, dtype, out, ddof, keepdims, where)\u001B[0m\n\u001B[0;32m   3578\u001B[0m     \u001B[38;5;28;01melse\u001B[39;00m:\n\u001B[0;32m   3579\u001B[0m         \u001B[38;5;28;01mreturn\u001B[39;00m std(axis\u001B[38;5;241m=\u001B[39maxis, dtype\u001B[38;5;241m=\u001B[39mdtype, out\u001B[38;5;241m=\u001B[39mout, ddof\u001B[38;5;241m=\u001B[39mddof, \u001B[38;5;241m*\u001B[39m\u001B[38;5;241m*\u001B[39mkwargs)\n\u001B[1;32m-> 3581\u001B[0m \u001B[38;5;28;01mreturn\u001B[39;00m _methods\u001B[38;5;241m.\u001B[39m_std(a, axis\u001B[38;5;241m=\u001B[39maxis, dtype\u001B[38;5;241m=\u001B[39mdtype, out\u001B[38;5;241m=\u001B[39mout, ddof\u001B[38;5;241m=\u001B[39mddof,\n\u001B[0;32m   3582\u001B[0m                      \u001B[38;5;241m*\u001B[39m\u001B[38;5;241m*\u001B[39mkwargs)\n",
      "File \u001B[1;32m~\\miniconda3\\envs\\celllinekg\\lib\\site-packages\\numpy\\core\\_methods.py:262\u001B[0m, in \u001B[0;36m_std\u001B[1;34m(a, axis, dtype, out, ddof, keepdims, where)\u001B[0m\n\u001B[0;32m    260\u001B[0m \u001B[38;5;28;01mdef\u001B[39;00m\u001B[38;5;250m \u001B[39m\u001B[38;5;21m_std\u001B[39m(a, axis\u001B[38;5;241m=\u001B[39m\u001B[38;5;28;01mNone\u001B[39;00m, dtype\u001B[38;5;241m=\u001B[39m\u001B[38;5;28;01mNone\u001B[39;00m, out\u001B[38;5;241m=\u001B[39m\u001B[38;5;28;01mNone\u001B[39;00m, ddof\u001B[38;5;241m=\u001B[39m\u001B[38;5;241m0\u001B[39m, keepdims\u001B[38;5;241m=\u001B[39m\u001B[38;5;28;01mFalse\u001B[39;00m, \u001B[38;5;241m*\u001B[39m,\n\u001B[0;32m    261\u001B[0m          where\u001B[38;5;241m=\u001B[39m\u001B[38;5;28;01mTrue\u001B[39;00m):\n\u001B[1;32m--> 262\u001B[0m     ret \u001B[38;5;241m=\u001B[39m \u001B[43m_var\u001B[49m\u001B[43m(\u001B[49m\u001B[43ma\u001B[49m\u001B[43m,\u001B[49m\u001B[43m \u001B[49m\u001B[43maxis\u001B[49m\u001B[38;5;241;43m=\u001B[39;49m\u001B[43maxis\u001B[49m\u001B[43m,\u001B[49m\u001B[43m \u001B[49m\u001B[43mdtype\u001B[49m\u001B[38;5;241;43m=\u001B[39;49m\u001B[43mdtype\u001B[49m\u001B[43m,\u001B[49m\u001B[43m \u001B[49m\u001B[43mout\u001B[49m\u001B[38;5;241;43m=\u001B[39;49m\u001B[43mout\u001B[49m\u001B[43m,\u001B[49m\u001B[43m \u001B[49m\u001B[43mddof\u001B[49m\u001B[38;5;241;43m=\u001B[39;49m\u001B[43mddof\u001B[49m\u001B[43m,\u001B[49m\n\u001B[0;32m    263\u001B[0m \u001B[43m               \u001B[49m\u001B[43mkeepdims\u001B[49m\u001B[38;5;241;43m=\u001B[39;49m\u001B[43mkeepdims\u001B[49m\u001B[43m,\u001B[49m\u001B[43m \u001B[49m\u001B[43mwhere\u001B[49m\u001B[38;5;241;43m=\u001B[39;49m\u001B[43mwhere\u001B[49m\u001B[43m)\u001B[49m\n\u001B[0;32m    265\u001B[0m     \u001B[38;5;28;01mif\u001B[39;00m \u001B[38;5;28misinstance\u001B[39m(ret, mu\u001B[38;5;241m.\u001B[39mndarray):\n\u001B[0;32m    266\u001B[0m         ret \u001B[38;5;241m=\u001B[39m um\u001B[38;5;241m.\u001B[39msqrt(ret, out\u001B[38;5;241m=\u001B[39mret)\n",
      "File \u001B[1;32m~\\miniconda3\\envs\\celllinekg\\lib\\site-packages\\numpy\\core\\_methods.py:212\u001B[0m, in \u001B[0;36m_var\u001B[1;34m(a, axis, dtype, out, ddof, keepdims, where)\u001B[0m\n\u001B[0;32m    207\u001B[0m     dtype \u001B[38;5;241m=\u001B[39m mu\u001B[38;5;241m.\u001B[39mdtype(\u001B[38;5;124m'\u001B[39m\u001B[38;5;124mf8\u001B[39m\u001B[38;5;124m'\u001B[39m)\n\u001B[0;32m    209\u001B[0m \u001B[38;5;66;03m# Compute the mean.\u001B[39;00m\n\u001B[0;32m    210\u001B[0m \u001B[38;5;66;03m# Note that if dtype is not of inexact type then arraymean will\u001B[39;00m\n\u001B[0;32m    211\u001B[0m \u001B[38;5;66;03m# not be either.\u001B[39;00m\n\u001B[1;32m--> 212\u001B[0m arrmean \u001B[38;5;241m=\u001B[39m \u001B[43mumr_sum\u001B[49m\u001B[43m(\u001B[49m\u001B[43marr\u001B[49m\u001B[43m,\u001B[49m\u001B[43m \u001B[49m\u001B[43maxis\u001B[49m\u001B[43m,\u001B[49m\u001B[43m \u001B[49m\u001B[43mdtype\u001B[49m\u001B[43m,\u001B[49m\u001B[43m \u001B[49m\u001B[43mkeepdims\u001B[49m\u001B[38;5;241;43m=\u001B[39;49m\u001B[38;5;28;43;01mTrue\u001B[39;49;00m\u001B[43m,\u001B[49m\u001B[43m \u001B[49m\u001B[43mwhere\u001B[49m\u001B[38;5;241;43m=\u001B[39;49m\u001B[43mwhere\u001B[49m\u001B[43m)\u001B[49m\n\u001B[0;32m    213\u001B[0m \u001B[38;5;66;03m# The shape of rcount has to match arrmean to not change the shape of out\u001B[39;00m\n\u001B[0;32m    214\u001B[0m \u001B[38;5;66;03m# in broadcasting. Otherwise, it cannot be stored back to arrmean.\u001B[39;00m\n\u001B[0;32m    215\u001B[0m \u001B[38;5;28;01mif\u001B[39;00m rcount\u001B[38;5;241m.\u001B[39mndim \u001B[38;5;241m==\u001B[39m \u001B[38;5;241m0\u001B[39m:\n\u001B[0;32m    216\u001B[0m     \u001B[38;5;66;03m# fast-path for default case when where is True\u001B[39;00m\n",
      "\u001B[1;31mKeyboardInterrupt\u001B[0m: "
     ]
    }
   ],
   "execution_count": 6
  },
  {
   "cell_type": "code",
   "execution_count": null,
   "id": "bfc5fe56514013b3",
   "metadata": {},
   "outputs": [],
   "source": [
    "# 2. 构建 Drug-Protein 边 (示例数据，需替换为真实 DTI)\n",
    "print(\"  → 构建 Drug-Protein 边...\")\n",
    "# 这里使用示例数据，实际项目中应从 PINNACLE/ZINC 加载\n",
    "drug_protein_edges = [\n",
    "    ('Everolimus', 'MTOR'),\n",
    "    ('Infigratinib', 'FGFR1'),\n",
    "    ('Paclitaxel', 'TUBB1')\n",
    "]\n",
    "drugs = list(set(d for d, _ in drug_protein_edges))\n"
   ]
  },
  {
   "cell_type": "code",
   "execution_count": null,
   "id": "81bf64a324685cb6",
   "metadata": {},
   "outputs": [],
   "source": [
    "# 3. 构建 CellLine-Protein 边\n",
    "print(\"  → 构建 CellLine-Protein 边...\")\n",
    "cell_line_protein_edges = []\n",
    "cell_lines = adata.obs['cell_name'].unique().tolist()\n",
    "for cell_line in cell_lines:\n",
    "    cell_mask = adata.obs['cell_name'] == cell_line\n",
    "    if cell_mask.sum() == 0:\n",
    "        continue\n",
    "    # 获取该细胞系下过滤后基因的表达\n",
    "    adata_cell = adata[cell_mask, filtered_genes]\n",
    "    if hasattr(adata_cell.X, \"toarray\"):\n",
    "        expr_subset = adata_cell.X.toarray()\n",
    "    else:\n",
    "        expr_subset = adata_cell.X\n",
    "    mean_expr = np.mean(expr_subset, axis=0)\n",
    "    for i, gene in enumerate(filtered_genes):\n",
    "        if mean_expr[i] > EXPR_Z_THRESHOLD:\n",
    "            cell_line_protein_edges.append((cell_line, gene, float(mean_expr[i])))\n",
    "\n"
   ]
  },
  {
   "cell_type": "code",
   "execution_count": null,
   "id": "3bfc8e98558d1195",
   "metadata": {},
   "outputs": [],
   "source": [
    "# 4. 构建 Disease-Protein 边\n",
    "print(\"  → 构建 Disease-Protein 边...\")\n",
    "diseases = ['Breast Cancer', 'Lung Cancer']  # 示例疾病\n",
    "disease_protein_edges = []\n",
    "for disease in diseases:\n",
    "    disease_genes = get_disease_genes(disease, top_k=DISEASE_PROTEIN_TOP_K)\n",
    "    for gene in disease_genes:\n",
    "        if gene in filtered_genes:\n",
    "            disease_protein_edges.append((disease, gene))\n",
    "\n"
   ]
  },
  {
   "cell_type": "code",
   "execution_count": null,
   "id": "c68eee659f4f365",
   "metadata": {},
   "outputs": [],
   "source": [
    "# 5. 构建 Disease-CellLine 边\n",
    "print(f\"  → 构建 Disease-CellLine 边 (方法: {DISEASE_CELL_BUILD_METHOD})...\")\n",
    "disease_cell_line_edges = build_disease_cell_line_edges(\n",
    "    diseases, cell_lines, adata, method=DISEASE_CELL_BUILD_METHOD\n",
    ")\n"
   ]
  },
  {
   "cell_type": "code",
   "execution_count": null,
   "id": "4c1f5bd390731b6e",
   "metadata": {},
   "outputs": [],
   "source": [
    "# === 第五步：构建异质图 ===\n",
    "print(\"📊 步骤 4: 构建 CellLineBioHG 异质图...\")\n",
    "\n",
    "hg = create_cell_line_bio_hg(\n",
    "    proteins=filtered_genes,\n",
    "    drugs=drugs,\n",
    "    cell_lines=cell_lines,\n",
    "    diseases=diseases,\n",
    "    drug_protein_edges=drug_protein_edges,\n",
    "    protein_protein_edges=ppi_edges,\n",
    "    cell_line_protein_edges=cell_line_protein_edges,\n",
    "    disease_protein_edges=disease_protein_edges,\n",
    "    disease_cell_line_edges=disease_cell_line_edges\n",
    ")\n",
    "\n",
    "print(f\"✅ 图构建完成: {hg.number_of_nodes()} 个节点, {hg.number_of_edges()} 条边\")\n"
   ]
  },
  {
   "cell_type": "code",
   "execution_count": null,
   "id": "5f99949860ba5338",
   "metadata": {},
   "outputs": [],
   "source": [
    "# === 第六步：准备节点特征 ===\n",
    "print(\"🧠 步骤 5: 准备节点初始特征...\")\n",
    "\n",
    "# Drug: 使用随机指纹 (实际应从 SMILES 计算 Morgan Fingerprint)\n",
    "np.random.seed(42)\n",
    "drug_features = torch.randn(len(drugs), 1024)\n",
    "\n",
    "# Protein: 使用随机初始化\n",
    "protein_features = torch.randn(len(filtered_genes), 256)\n",
    "\n",
    "# CellLine & Disease: 不提供初始特征，让模型学习嵌入\n",
    "cell_line_features = None\n",
    "disease_features = None\n",
    "\n",
    "device = 'cuda' if torch.cuda.is_available() else 'cpu'\n",
    "print(f\"使用设备: {device}\")\n"
   ]
  },
  {
   "cell_type": "code",
   "execution_count": null,
   "id": "11fa6a7b143d71e",
   "metadata": {},
   "outputs": [],
   "source": [
    "# === 第七步：训练模型 ===\n",
    "print(\"🏋️ 步骤 6: 训练 CellLineKG 模型...\")\n",
    "\n",
    "model = train_model(\n",
    "    graph=hg,\n",
    "    drug_features=drug_features,\n",
    "    protein_features=protein_features,\n",
    "    cell_line_features=cell_line_features,\n",
    "    disease_features=disease_features,\n",
    "    device=device\n",
    ")\n",
    "\n",
    "print(\"✅ 模型训练完成!\")\n"
   ]
  },
  {
   "cell_type": "code",
   "execution_count": null,
   "id": "d64cf624ae52b2d5",
   "metadata": {},
   "outputs": [],
   "source": [
    "# === 第八步：评估模型 (示例) ===\n",
    "print(\"📈 步骤 7: 模型评估...\")\n",
    "\n",
    "# 这里只是一个占位符，你需要实现真实的评估逻辑\n",
    "evaluate_model()\n",
    "\n",
    "print(\"🎉 项目主流程运行完毕！\")\n",
    "\n",
    "# %%\n",
    "# === 第九步：进行预测 (示例) ===\n",
    "print(\"🔮 步骤 8: 预测药物-疾病关系...\")\n",
    "\n",
    "# 假设我们想预测 \"Everolimus\" 对 \"Breast Cancer\" 的效果\n",
    "drug_name = \"Everolimus\"\n",
    "disease_name = \"Breast Cancer\"\n",
    "\n",
    "# 获取节点 ID (假设你的 graph_construction.py 中有相关映射)\n",
    "# 注意：你需要在 create_cell_line_bio_hg 函数中返回节点名到ID的映射，或在这里重建\n",
    "drug_id = drugs.index(drug_name)\n",
    "disease_id = diseases.index(disease_name)\n",
    "\n",
    "# 获取节点嵌入 (需要修改 model.py 的 forward 函数以支持返回 embeddings)\n",
    "# 假设你已修改模型，可以这样调用：\n",
    "# node_embeddings = model(hg, drug_features, protein_features, task='embeddings')\n",
    "\n",
    "# 伪代码示例：\n",
    "# score = model.predict_drug_disease(\n",
    "#     node_embeddings['drug'][drug_id],\n",
    "#     node_embeddings['disease'][disease_id]\n",
    "# )\n",
    "# print(f\"药物 '{drug_name}' 治疗疾病 '{disease_name}' 的预测得分: {score:.4f}\")\n",
    "\n",
    "print(\"⚠️ 预测功能待实现，请根据 model.py 中的 predict_drug_disease 函数完善此部分。\")\n",
    "\n",
    "# %%\n",
    "# === 附录：配置查看 ===\n",
    "print(\"⚙️ 当前配置参数:\")\n",
    "print(f\"- PPI 构建方法: {PPI_BUILD_METHOD}\")\n",
    "print(f\"- Disease-CellLine 构建方法: {DISEASE_CELL_BUILD_METHOD}\")\n",
    "print(f\"- 蛋白过滤阈值 (min_cell_lines): {MIN_CELL_LINES_FOR_TOP80}\")\n",
    "print(f\"- CellLine-Protein 边阈值: {EXPR_Z_THRESHOLD}\")\n"
   ]
  }
 ],
 "metadata": {
  "kernelspec": {
   "display_name": "Python 3 (ipykernel)",
   "language": "python",
   "name": "python3"
  },
  "language_info": {
   "codemirror_mode": {
    "name": "ipython",
    "version": 3
   },
   "file_extension": ".py",
   "mimetype": "text/x-python",
   "name": "python",
   "nbconvert_exporter": "python",
   "pygments_lexer": "ipython3",
   "version": "3.9.23"
  }
 },
 "nbformat": 4,
 "nbformat_minor": 5
}
