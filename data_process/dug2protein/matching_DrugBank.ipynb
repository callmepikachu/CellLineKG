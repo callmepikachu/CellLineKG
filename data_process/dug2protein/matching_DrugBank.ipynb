{
 "cells": [
  {
   "cell_type": "code",
   "id": "f248be50bec3b4e9",
   "metadata": {
    "ExecuteTime": {
     "end_time": "2025-09-20T04:08:40.461154Z",
     "start_time": "2025-09-20T04:08:40.444529Z"
    }
   },
   "source": [
    "import pandas as pd\n",
    "import mygene\n",
    "import requests\n",
    "import time"
   ],
   "outputs": [],
   "execution_count": 10
  },
  {
   "metadata": {
    "collapsed": true,
    "ExecuteTime": {
     "end_time": "2025-09-20T04:07:34.665746Z",
     "start_time": "2025-09-20T04:07:34.545728Z"
    }
   },
   "cell_type": "code",
   "outputs": [
    {
     "name": "stdout",
     "output_type": "stream",
     "text": [
      "原始数据行数: 117893\n",
      "原始数据前5行:\n",
      "  diseaseFromSourceMappedId      diseaseId  ...  clinicalStatus   drugId\n",
      "0               EFO_0000588    EFO_0000588  ...       Completed  DB01254\n",
      "1               EFO_0000222    EFO_0000222  ...       Completed  DB01254\n",
      "2             MONDO_0021063  MONDO_0021063  ...       Completed  DB01254\n",
      "3               EFO_0000389    EFO_0000389  ...       Completed  DB01254\n",
      "4               EFO_0000220    EFO_0000220  ...  Unknown status  DB01254\n",
      "\n",
      "[5 rows x 7 columns]\n"
     ]
    }
   ],
   "execution_count": 6,
   "source": [
    "\n",
    "# 1. 加载原始数据\n",
    "df_drug_target = pd.read_csv('drug2protein_primekg.csv')\n",
    "print(f\"原始数据行数: {len(df_drug_target)}\")\n",
    "print(\"原始数据前5行:\")\n",
    "print(df_drug_target.head())\n"
   ],
   "id": "initial_id"
  },
  {
   "metadata": {
    "ExecuteTime": {
     "end_time": "2025-09-20T04:04:50.886471Z",
     "start_time": "2025-09-20T04:04:50.858599Z"
    }
   },
   "cell_type": "code",
   "source": [
    "# 2. 提取所有唯一的疾病ID (合并 diseaseFromSourceMappedId 和 diseaseId)\n",
    "all_disease_ids = set(df_drug_target['diseaseFromSourceMappedId'].dropna().tolist() +\n",
    "                      df_drug_target['diseaseId'].dropna().tolist())\n",
    "print(f\"\\n总共需要映射的唯一疾病ID数量: {len(all_disease_ids)}\")\n"
   ],
   "id": "4f734e11b4e32789",
   "outputs": [
    {
     "name": "stdout",
     "output_type": "stream",
     "text": [
      "\n",
      "总共需要映射的唯一疾病ID数量: 2205\n"
     ]
    }
   ],
   "execution_count": 2
  },
  {
   "metadata": {
    "ExecuteTime": {
     "end_time": "2025-09-20T04:16:29.935533Z",
     "start_time": "2025-09-20T04:16:29.749768Z"
    }
   },
   "cell_type": "code",
   "source": [
    "mapping_file = 'mondo.sssom.tsv'  # 请替换为您的实际文件路径\n",
    "mapping_df = pd.read_csv(mapping_file, sep='\\t', comment='#')\n"
   ],
   "id": "91d37263c95fe4b",
   "outputs": [],
   "execution_count": 13
  },
  {
   "metadata": {
    "ExecuteTime": {
     "end_time": "2025-09-20T04:16:50.068840Z",
     "start_time": "2025-09-20T04:16:50.013231Z"
    }
   },
   "cell_type": "code",
   "source": [
    "# 2. 筛选出映射到 MeSH 的记录\n",
    "# MeSH ID 在 object_id 列，格式如 'mesh:D004194'\n",
    "mesh_mapping_df = mapping_df[mapping_df['object_id'].str.startswith('mesh:', na=False)].copy()\n",
    "mesh_mapping_df"
   ],
   "id": "7b94494be50fb672",
   "outputs": [
    {
     "data": {
      "text/plain": [
       "           subject_id  ...       mapping_justification\n",
       "6       MONDO:0000001  ...  semapv:UnspecifiedMatching\n",
       "14      MONDO:0000004  ...  semapv:UnspecifiedMatching\n",
       "27      MONDO:0000022  ...  semapv:UnspecifiedMatching\n",
       "56      MONDO:0000070  ...  semapv:UnspecifiedMatching\n",
       "67      MONDO:0000082  ...  semapv:UnspecifiedMatching\n",
       "...               ...  ...                         ...\n",
       "108096  MONDO:8000011  ...  semapv:UnspecifiedMatching\n",
       "108105  MONDO:8000014  ...  semapv:UnspecifiedMatching\n",
       "108111  MONDO:8000015  ...  semapv:UnspecifiedMatching\n",
       "108117  MONDO:8000018  ...  semapv:UnspecifiedMatching\n",
       "108120  MONDO:8000019  ...  semapv:UnspecifiedMatching\n",
       "\n",
       "[8182 rows x 6 columns]"
      ],
      "text/html": [
       "<div>\n",
       "<style scoped>\n",
       "    .dataframe tbody tr th:only-of-type {\n",
       "        vertical-align: middle;\n",
       "    }\n",
       "\n",
       "    .dataframe tbody tr th {\n",
       "        vertical-align: top;\n",
       "    }\n",
       "\n",
       "    .dataframe thead th {\n",
       "        text-align: right;\n",
       "    }\n",
       "</style>\n",
       "<table border=\"1\" class=\"dataframe\">\n",
       "  <thead>\n",
       "    <tr style=\"text-align: right;\">\n",
       "      <th></th>\n",
       "      <th>subject_id</th>\n",
       "      <th>subject_label</th>\n",
       "      <th>predicate_id</th>\n",
       "      <th>object_id</th>\n",
       "      <th>object_label</th>\n",
       "      <th>mapping_justification</th>\n",
       "    </tr>\n",
       "  </thead>\n",
       "  <tbody>\n",
       "    <tr>\n",
       "      <th>6</th>\n",
       "      <td>MONDO:0000001</td>\n",
       "      <td>disease</td>\n",
       "      <td>skos:exactMatch</td>\n",
       "      <td>mesh:D004194</td>\n",
       "      <td>NaN</td>\n",
       "      <td>semapv:UnspecifiedMatching</td>\n",
       "    </tr>\n",
       "    <tr>\n",
       "      <th>14</th>\n",
       "      <td>MONDO:0000004</td>\n",
       "      <td>adrenocortical insufficiency</td>\n",
       "      <td>skos:exactMatch</td>\n",
       "      <td>mesh:D000309</td>\n",
       "      <td>NaN</td>\n",
       "      <td>semapv:UnspecifiedMatching</td>\n",
       "    </tr>\n",
       "    <tr>\n",
       "      <th>27</th>\n",
       "      <td>MONDO:0000022</td>\n",
       "      <td>nocturnal enuresis</td>\n",
       "      <td>skos:exactMatch</td>\n",
       "      <td>mesh:D053206</td>\n",
       "      <td>NaN</td>\n",
       "      <td>semapv:UnspecifiedMatching</td>\n",
       "    </tr>\n",
       "    <tr>\n",
       "      <th>56</th>\n",
       "      <td>MONDO:0000070</td>\n",
       "      <td>Mycobacterium tuberculosis, susceptibility</td>\n",
       "      <td>skos:exactMatch</td>\n",
       "      <td>mesh:C536092</td>\n",
       "      <td>NaN</td>\n",
       "      <td>semapv:UnspecifiedMatching</td>\n",
       "    </tr>\n",
       "    <tr>\n",
       "      <th>67</th>\n",
       "      <td>MONDO:0000082</td>\n",
       "      <td>pelvic organ prolapse</td>\n",
       "      <td>skos:exactMatch</td>\n",
       "      <td>mesh:D056887</td>\n",
       "      <td>NaN</td>\n",
       "      <td>semapv:UnspecifiedMatching</td>\n",
       "    </tr>\n",
       "    <tr>\n",
       "      <th>...</th>\n",
       "      <td>...</td>\n",
       "      <td>...</td>\n",
       "      <td>...</td>\n",
       "      <td>...</td>\n",
       "      <td>...</td>\n",
       "      <td>...</td>\n",
       "    </tr>\n",
       "    <tr>\n",
       "      <th>108096</th>\n",
       "      <td>MONDO:8000011</td>\n",
       "      <td>visceral neuropathy, familial, 1, autosomal re...</td>\n",
       "      <td>skos:exactMatch</td>\n",
       "      <td>mesh:C537394</td>\n",
       "      <td>NaN</td>\n",
       "      <td>semapv:UnspecifiedMatching</td>\n",
       "    </tr>\n",
       "    <tr>\n",
       "      <th>108105</th>\n",
       "      <td>MONDO:8000014</td>\n",
       "      <td>familial antiphospholipid syndrome</td>\n",
       "      <td>skos:exactMatch</td>\n",
       "      <td>mesh:C531622</td>\n",
       "      <td>NaN</td>\n",
       "      <td>semapv:UnspecifiedMatching</td>\n",
       "    </tr>\n",
       "    <tr>\n",
       "      <th>108111</th>\n",
       "      <td>MONDO:8000015</td>\n",
       "      <td>46,XY sex reversal 11</td>\n",
       "      <td>skos:exactMatch</td>\n",
       "      <td>mesh:C537770</td>\n",
       "      <td>NaN</td>\n",
       "      <td>semapv:UnspecifiedMatching</td>\n",
       "    </tr>\n",
       "    <tr>\n",
       "      <th>108117</th>\n",
       "      <td>MONDO:8000018</td>\n",
       "      <td>benign paroxysmal positional vertigo</td>\n",
       "      <td>skos:exactMatch</td>\n",
       "      <td>mesh:D065635</td>\n",
       "      <td>NaN</td>\n",
       "      <td>semapv:UnspecifiedMatching</td>\n",
       "    </tr>\n",
       "    <tr>\n",
       "      <th>108120</th>\n",
       "      <td>MONDO:8000019</td>\n",
       "      <td>vertigo, benign recurrent, 1</td>\n",
       "      <td>skos:exactMatch</td>\n",
       "      <td>mesh:C567620</td>\n",
       "      <td>NaN</td>\n",
       "      <td>semapv:UnspecifiedMatching</td>\n",
       "    </tr>\n",
       "  </tbody>\n",
       "</table>\n",
       "<p>8182 rows × 6 columns</p>\n",
       "</div>"
      ]
     },
     "execution_count": 15,
     "metadata": {},
     "output_type": "execute_result"
    }
   ],
   "execution_count": 15
  },
  {
   "metadata": {
    "ExecuteTime": {
     "end_time": "2025-09-20T04:17:01.113931Z",
     "start_time": "2025-09-20T04:17:01.087337Z"
    }
   },
   "cell_type": "code",
   "source": [
    "# 3. 清理 ID 格式，移除前缀\n",
    "# 将 'MONDO:0000001' -> 'MONDO_0000001'\n",
    "# 将 'mesh:D004194' -> 'D004194'\n",
    "mesh_mapping_df['subject_id_clean'] = mesh_mapping_df['subject_id'].str.replace(':', '_')\n",
    "mesh_mapping_df['object_id_clean'] = mesh_mapping_df['object_id'].str.replace('mesh:', '')\n"
   ],
   "id": "4a33e97b03d6f403",
   "outputs": [],
   "execution_count": 16
  },
  {
   "metadata": {
    "ExecuteTime": {
     "end_time": "2025-09-20T04:17:08.559547Z",
     "start_time": "2025-09-20T04:17:08.533107Z"
    }
   },
   "cell_type": "code",
   "source": [
    "# 4. 创建映射字典\n",
    "# 一个 subject_id 可能对应多个 object_id，我们取第一个\n",
    "disease_to_mesh = mesh_mapping_df.groupby('subject_id_clean')['object_id_clean'].first().to_dict()\n"
   ],
   "id": "e3ba0547e9b430a1",
   "outputs": [],
   "execution_count": 17
  },
  {
   "metadata": {
    "ExecuteTime": {
     "end_time": "2025-09-20T04:17:28.124685Z",
     "start_time": "2025-09-20T04:17:28.117637Z"
    }
   },
   "cell_type": "code",
   "source": [
    "# 5. 验证映射\n",
    "sample_ids = ['MONDO_0000001', 'MONDO_0003060', 'EFO_0000760']\n",
    "for sid in sample_ids:\n",
    "    print(f\"{sid} -> {disease_to_mesh.get(sid, 'Not Found')}\")\n"
   ],
   "id": "b5436ad4438aba8d",
   "outputs": [
    {
     "name": "stdout",
     "output_type": "stream",
     "text": [
      "MONDO_0000001 -> D004194\n",
      "MONDO_0003060 -> Not Found\n",
      "EFO_0000760 -> Not Found\n"
     ]
    }
   ],
   "execution_count": 18
  },
  {
   "metadata": {
    "ExecuteTime": {
     "end_time": "2025-09-20T04:17:58.276149Z",
     "start_time": "2025-09-20T04:17:57.693424Z"
    }
   },
   "cell_type": "code",
   "source": [
    "# 6. 应用到您的原始数据\n",
    "df_drug_target = pd.read_csv('drug2protein_primekg.csv')\n",
    "\n",
    "# 创建新列\n",
    "df_drug_target['diseaseFromSourceMappedId_DrugBank'] = df_drug_target['diseaseFromSourceMappedId'].map(disease_to_mesh)\n",
    "df_drug_target['diseaseId_DrugBank'] = df_drug_target['diseaseId'].map(disease_to_mesh)\n",
    "\n",
    "# 7. 导出结果\n",
    "output_file = 'drug2protein_primekg_aligned_to_drugbank_via_mondo_sssom.csv'\n",
    "df_drug_target.to_csv(output_file, index=False)\n",
    "\n",
    "print(f\"\\n对齐完成！结果已保存至: {output_file}\")\n",
    "print(f\"成功映射的行数: {df_drug_target['diseaseFromSourceMappedId_DrugBank'].notnull().sum()} / {len(df_drug_target)}\")"
   ],
   "id": "38af7a84afaf99a",
   "outputs": [
    {
     "name": "stdout",
     "output_type": "stream",
     "text": [
      "\n",
      "对齐完成！结果已保存至: drug2protein_primekg_aligned_to_drugbank_via_mondo_sssom.csv\n",
      "成功映射的行数: 18930 / 117893\n"
     ]
    }
   ],
   "execution_count": 19
  }
 ],
 "metadata": {
  "kernelspec": {
   "display_name": "Python 3",
   "language": "python",
   "name": "python3"
  },
  "language_info": {
   "codemirror_mode": {
    "name": "ipython",
    "version": 2
   },
   "file_extension": ".py",
   "mimetype": "text/x-python",
   "name": "python",
   "nbconvert_exporter": "python",
   "pygments_lexer": "ipython2",
   "version": "2.7.6"
  }
 },
 "nbformat": 4,
 "nbformat_minor": 5
}
