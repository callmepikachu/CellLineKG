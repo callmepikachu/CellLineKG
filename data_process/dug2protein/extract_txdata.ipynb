{
 "cells": [
  {
   "cell_type": "code",
   "id": "initial_id",
   "metadata": {
    "collapsed": true,
    "ExecuteTime": {
     "end_time": "2025-09-20T05:25:59.654250Z",
     "start_time": "2025-09-20T05:25:59.633951Z"
    }
   },
   "source": [
    "import pandas as pd\n",
    "import json\n",
    "import numpy as np\n",
    "from typing import List, Dict\n",
    "\n"
   ],
   "outputs": [],
   "execution_count": 1
  },
  {
   "metadata": {
    "ExecuteTime": {
     "end_time": "2025-09-20T05:34:01.949716Z",
     "start_time": "2025-09-20T05:34:01.938743Z"
    }
   },
   "cell_type": "code",
   "source": [
    "EVIDENCE_DIR = \"\"  # 证据文件所在目录\n",
    "EVIDENCE_FILES = [\n",
    "    \"part-00000-f57fe3f5-70d3-4ebe-b9ca-b7dac348d291-c000.snappy.parquet\",\n",
    "    \"part-00001-f57fe3f5-70d3-4ebe-b9ca-b7dac348d291-c000.snappy.parquet\"\n",
    "]\n",
    "CHEMBL2DB_PATH = \"src1src2.txt\"  # ChEMBL 到 DrugBank 的映射文件\n",
    "DISEASE_LIST_PATH = \"all_approved_oct2022.csv\"  # 包含疾病ID列表的文件\n"
   ],
   "id": "ff98aee0304f7cc8",
   "outputs": [],
   "execution_count": 7
  },
  {
   "metadata": {
    "ExecuteTime": {
     "end_time": "2025-09-20T05:34:03.061607Z",
     "start_time": "2025-09-20T05:34:03.044695Z"
    }
   },
   "cell_type": "code",
   "source": [
    "print(\"Loading ChEMBL to DrugBank mapping...\")\n",
    "chembl2db = {}\n",
    "with open(CHEMBL2DB_PATH, 'r', encoding='utf-8') as f:\n",
    "    for line in f:\n",
    "        parts = line.strip().split()\n",
    "        if len(parts) >= 2:\n",
    "            chembl_id = parts[0]\n",
    "            drugbank_id = parts[1]\n",
    "            chembl2db[chembl_id] = drugbank_id\n",
    "\n",
    "chembl2db_dict = chembl2db\n",
    "\n",
    "\n",
    "print(f\"Loaded {len(chembl2db_dict)} ChEMBL to DrugBank mappings.\")\n"
   ],
   "id": "e287899aea7b4740",
   "outputs": [
    {
     "name": "stdout",
     "output_type": "stream",
     "text": [
      "Loading ChEMBL to DrugBank mapping...\n",
      "Loaded 8978 ChEMBL to DrugBank mappings.\n"
     ]
    }
   ],
   "execution_count": 8
  },
  {
   "metadata": {
    "ExecuteTime": {
     "end_time": "2025-09-20T05:52:45.939478Z",
     "start_time": "2025-09-20T05:52:45.922101Z"
    }
   },
   "cell_type": "code",
   "source": [
    "all_evidence = []\n",
    "total_records = 0  # 调试：计数器\n",
    "filtered_by_disease = 0\n",
    "filtered_by_phase = 0\n",
    "EVIDENCE_FILES = [\n",
    "    \"part-00000-f57fe3f5-70d3-4ebe-b9ca-b7dac348d291-c000.snappy.parquet\",\n",
    "    \"part-00001-f57fe3f5-70d3-4ebe-b9ca-b7dac348d291-c000.snappy.parquet\"\n",
    "]"
   ],
   "id": "4e41107d2ef8a1b6",
   "outputs": [],
   "execution_count": 18
  },
  {
   "metadata": {
    "jupyter": {
     "is_executing": true
    },
    "ExecuteTime": {
     "start_time": "2025-09-20T05:54:27.722660Z"
    }
   },
   "cell_type": "code",
   "source": [
    "evidence_files = EVIDENCE_FILES\n",
    "for file in evidence_files:\n",
    "    evidence_file = file\n",
    "    # 读取 Parquet 文件\n",
    "    df_evidence = pd.read_parquet(evidence_file)\n",
    "\n",
    "    # 将 DataFrame 转换为字典列表，模拟原函数的 json.loads 行为\n",
    "    evidence_list = df_evidence.to_dict(orient='records')\n",
    "\n",
    "    for evidence in evidence_list:\n",
    "        total_records += 1\n",
    "\n",
    "        # --- 修复点 1: 使用正确的字段名 ---\n",
    "        # 临床阶段\n",
    "        clinical_phase = evidence.get('phase', 0)  # 修改: 'phase' 而非 'clinicalPhase'\n",
    "        # 临床状态\n",
    "        clinical_status = evidence.get('status', '')  # 修改: 'status' 而非 'clinicalStatus'\n",
    "\n",
    "        # --- 修复点 2: 疾病ID匹配 ---\n",
    "        # 尝试获取疾病ID，优先使用 diseaseFromSourceMappedId，其次 diseaseId\n",
    "        disease_id = evidence.get('diseaseFromSourceMappedId') or evidence.get('diseaseId')\n",
    "        # # 如果 disease_id 为空，或者不在 all_disease 列表中，则过滤\n",
    "        # if not disease_id or disease_id not in all_disease:\n",
    "        #     filtered_by_disease += 1\n",
    "        #     continue\n",
    "\n",
    "        # --- 修复点 3: 使用修复后的字段进行阶段过滤 ---\n",
    "        if clinical_phase < 2:\n",
    "            filtered_by_phase += 1\n",
    "            continue\n",
    "        if clinical_phase == 2 and clinical_status != 'Completed':\n",
    "            filtered_by_phase += 1\n",
    "            continue\n",
    "\n",
    "        # 如果通过所有过滤，添加到结果\n",
    "        db_id = chembl2db.get(evidence.get('drugId'), evidence.get('drugId')) if evidence.get('drugId') else evidence.get('drugId')\n",
    "        evidence_entry = [\n",
    "            disease_id,\n",
    "            evidence.get('diseaseId', np.nan),\n",
    "            evidence.get('targetId', np.nan),\n",
    "            evidence.get('targetFromSourceId', np.nan),\n",
    "            clinical_phase,  # 使用修正后的变量\n",
    "            clinical_status,  # 使用修正后的变量\n",
    "            db_id\n",
    "        ]\n",
    "        all_evidence.append(evidence_entry)\n",
    "\n",
    "print(f\"\\n--- 调试信息 ---\")\n",
    "print(f\"总读取记录数: {total_records}\")\n",
    "print(f\"因疾病ID被过滤: {filtered_by_disease}\")\n",
    "print(f\"因临床阶段被过滤: {filtered_by_phase}\")\n",
    "print(f\"最终保留记录数: {len(all_evidence)}\")\n",
    "\n",
    "# 创建 DataFrame\n",
    "drug_evidence_data = pd.DataFrame(\n",
    "    all_evidence,\n",
    "    columns=[\n",
    "        'diseaseFromSourceMappedId',\n",
    "        'diseaseId',\n",
    "        'targetId',\n",
    "        'targetFromSourceId',\n",
    "        'clinicalPhase',\n",
    "        'clinicalStatus',\n",
    "        'drugId'\n",
    "    ]\n",
    ").sort_values(by='targetId')\n",
    "\n",
    "# 数据验证\n",
    "if not drug_evidence_data.empty:\n",
    "    # assert drug_evidence_data['diseaseFromSourceMappedId'].dropna().isin(\n",
    "    #     all_disease).all(), \"Found disease IDs not in all_disease list.\"\n",
    "    assert drug_evidence_data['clinicalPhase'].dropna().isin([2, 3, 4]).all(), \"Found invalid clinicalPhase values.\"\n",
    "\n",
    "# 保存为 CSV 文件\n",
    "output_csv_path = \"drug2protein.csv\"\n",
    "drug_evidence_data.to_csv(output_csv_path, index=False, sep='\\t')\n",
    "print(f\"Drug-protein evidence data saved to: {output_csv_path}\")\n"
   ],
   "id": "828359559cdeed4d",
   "outputs": [],
   "execution_count": null
  },
  {
   "metadata": {},
   "cell_type": "code",
   "outputs": [],
   "execution_count": null,
   "source": [
    "# >>>>>>>>>>>>>>>> 配置路径 <<<<<<<<<<<<<<<<\n",
    "\n",
    "# >>>>>>>>>>>>>>>> 加载数据 <<<<<<<<<<<<<<<<\n",
    "\n",
    "\n",
    "# >>>>>>>>>>>>>>>> 调用核心函数 <<<<<<<<<<<<<<<<\n",
    "print(\"Processing drug evidence data...\")\n",
    "drug_evidence_df = get_all_drug_evidence(\n",
    "    evidence_files=EVIDENCE_FILES,\n",
    "    evidence_dir=EVIDENCE_DIR,\n",
    "    all_disease=disease_id_list,\n",
    "    chembl2db=chembl2db_dict\n",
    ")\n",
    "\n",
    "# >>>>>>>>>>>>>>>> 输出最终结果 <<<<<<<<<<<<<<<<\n",
    "print(f\"\\nFinal drug-protein evidence data shape: {drug_evidence_df.shape}\")\n",
    "print(drug_evidence_df.head())\n",
    "\n",
    "print(\"\\nSummary:\")\n",
    "print(f\"Unique Drugs: {drug_evidence_df['drugId'].nunique()}\")\n",
    "print(f\"Unique Targets: {drug_evidence_df['targetId'].nunique()}\")\n",
    "print(f\"Unique Diseases: {drug_evidence_df['diseaseId'].nunique()}\")\n",
    "\n",
    "print(\"\\nDone!\")\n"
   ],
   "id": "7d8958ee2dac2488"
  }
 ],
 "metadata": {
  "kernelspec": {
   "display_name": "Python 3",
   "language": "python",
   "name": "python3"
  },
  "language_info": {
   "codemirror_mode": {
    "name": "ipython",
    "version": 2
   },
   "file_extension": ".py",
   "mimetype": "text/x-python",
   "name": "python",
   "nbconvert_exporter": "python",
   "pygments_lexer": "ipython2",
   "version": "2.7.6"
  }
 },
 "nbformat": 4,
 "nbformat_minor": 5
}
