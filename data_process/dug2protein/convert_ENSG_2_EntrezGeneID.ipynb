{
 "cells": [
  {
   "cell_type": "code",
   "id": "initial_id",
   "metadata": {
    "collapsed": true,
    "ExecuteTime": {
     "end_time": "2025-09-20T03:48:41.500993Z",
     "start_time": "2025-09-20T03:48:41.391599Z"
    }
   },
   "source": [
    "import pandas as pd\n",
    "import mygene\n",
    "\n",
    "# 初始化 mygene 客户端\n",
    "mg = mygene.MyGeneInfo()"
   ],
   "outputs": [],
   "execution_count": 1
  },
  {
   "metadata": {
    "ExecuteTime": {
     "end_time": "2025-09-20T03:52:15.572573Z",
     "start_time": "2025-09-20T03:52:15.431319Z"
    }
   },
   "cell_type": "code",
   "source": [
    "# 加载数据\n",
    "df_drug2prot = pd.read_csv('drug2protein.csv', sep='\\t')\n",
    "\n",
    "print(\"原始数据前5行:\")\n",
    "print(df_drug2prot.head())"
   ],
   "id": "5c0c8cb2cb95e5b0",
   "outputs": [
    {
     "name": "stdout",
     "output_type": "stream",
     "text": [
      "原始数据前5行:\n",
      "  diseaseFromSourceMappedId      diseaseId  ...  clinicalStatus   drugId\n",
      "0               EFO_0000588    EFO_0000588  ...       Completed  DB01254\n",
      "1               EFO_0000222    EFO_0000222  ...       Completed  DB01254\n",
      "2             MONDO_0021063  MONDO_0021063  ...       Completed  DB01254\n",
      "3               EFO_0000389    EFO_0000389  ...       Completed  DB01254\n",
      "4               EFO_0000220    EFO_0000220  ...  Unknown status  DB01254\n",
      "\n",
      "[5 rows x 7 columns]\n"
     ]
    }
   ],
   "execution_count": 4
  },
  {
   "metadata": {
    "ExecuteTime": {
     "end_time": "2025-09-20T03:52:31.488354Z",
     "start_time": "2025-09-20T03:52:31.461971Z"
    }
   },
   "cell_type": "code",
   "source": [
    "# 获取所有唯一的 targetId (ENSG...)\n",
    "ensembl_ids = df_drug2prot['targetId'].dropna().unique().tolist()\n",
    "\n",
    "print(f\"需要转换的唯一 Ensembl Gene ID 数量: {len(ensembl_ids)}\")"
   ],
   "id": "d186e631d68326ad",
   "outputs": [
    {
     "name": "stdout",
     "output_type": "stream",
     "text": [
      "需要转换的唯一 Ensembl Gene ID 数量: 1381\n"
     ]
    }
   ],
   "execution_count": 5
  },
  {
   "metadata": {
    "ExecuteTime": {
     "end_time": "2025-09-20T03:52:49.144903Z",
     "start_time": "2025-09-20T03:52:44.395602Z"
    }
   },
   "cell_type": "code",
   "source": [
    "def convert_ensg_to_entrez(ensg_list):\n",
    "    \"\"\"将 Ensembl Gene ID 列表批量转换为 Entrez Gene ID\"\"\"\n",
    "    if not ensg_list:\n",
    "        return {}\n",
    "    results = mg.querymany(ensg_list, scopes='ensembl.gene', species='human', fields='entrezgene', returnall=True)\n",
    "\n",
    "    mapping = {}\n",
    "    for hit in results['out']:\n",
    "        query = hit['query']\n",
    "        entrez_id = hit.get('entrezgene', None)\n",
    "        mapping[query] = entrez_id\n",
    "\n",
    "    unmapped = results['missing']\n",
    "    print(f\"成功映射: {len(mapping) - len(unmapped)} / {len(ensg_list)}\")\n",
    "    if unmapped:\n",
    "        print(f\"未成功映射的数量: {len(unmapped)}\")\n",
    "        print(f\"前5个未映射的ID: {unmapped[:5]}\")\n",
    "\n",
    "    return mapping\n",
    "\n",
    "# 执行转换\n",
    "ensg_to_entrez = convert_ensg_to_entrez(ensembl_ids)"
   ],
   "id": "77411cb293eb2743",
   "outputs": [
    {
     "name": "stderr",
     "output_type": "stream",
     "text": [
      "Input sequence provided is already in string format. No operation performed\n",
      "Input sequence provided is already in string format. No operation performed\n"
     ]
    },
    {
     "name": "stdout",
     "output_type": "stream",
     "text": [
      "成功映射: 1381 / 1381\n"
     ]
    }
   ],
   "execution_count": 6
  },
  {
   "metadata": {
    "ExecuteTime": {
     "end_time": "2025-09-20T03:53:21.504959Z",
     "start_time": "2025-09-20T03:53:21.139009Z"
    }
   },
   "cell_type": "code",
   "source": [
    "# 创建一个新的列 'targetId_entrez'，存放转换后的 Entrez ID\n",
    "df_drug2prot['targetId_entrez'] = df_drug2prot['targetId'].map(ensg_to_entrez)\n",
    "\n",
    "# 检查转换结果\n",
    "print(\"\\n转换后数据前5行:\")\n",
    "print(df_drug2prot[['targetId', 'targetId_entrez']].head())\n",
    "\n",
    "# 移除映射失败的行 (可选，根据您的需求决定)\n",
    "# df_drug2prot = df_drug2prot.dropna(subset=['targetId_entrez']).copy()\n",
    "\n",
    "# 重命名列：将 'targetId' 替换为转换后的 Entrez ID\n",
    "# 或者，为了保留原始数据，您可以选择保留两列，但在后续分析中使用 'targetId_entrez'\n",
    "df_drug2prot_final = df_drug2prot.copy()\n",
    "df_drug2prot_final['targetId'] = df_drug2prot_final['targetId_entrez']  # 覆盖原列\n",
    "df_drug2prot_final = df_drug2prot_final.drop(columns=['targetId_entrez'])  # 删除临时列\n",
    "\n",
    "# 保存到新的 CSV 文件\n",
    "df_drug2prot_final.to_csv('drug2protein_primekg.csv', index=False)\n",
    "\n",
    "print(f\"\\n最终文件 'drug2protein_primekg.csv' 已保存，共 {len(df_drug2prot_final)} 行。\")"
   ],
   "id": "5a2f251f19db4ad",
   "outputs": [
    {
     "name": "stdout",
     "output_type": "stream",
     "text": [
      "\n",
      "转换后数据前5行:\n",
      "          targetId targetId_entrez\n",
      "0  ENSG00000000938            2268\n",
      "1  ENSG00000000938            2268\n",
      "2  ENSG00000000938            2268\n",
      "3  ENSG00000000938            2268\n",
      "4  ENSG00000000938            2268\n",
      "\n",
      "最终文件 'drug2protein_primekg.csv' 已保存，共 117893 行。\n"
     ]
    }
   ],
   "execution_count": 7
  }
 ],
 "metadata": {
  "kernelspec": {
   "display_name": "Python 3",
   "language": "python",
   "name": "python3"
  },
  "language_info": {
   "codemirror_mode": {
    "name": "ipython",
    "version": 2
   },
   "file_extension": ".py",
   "mimetype": "text/x-python",
   "name": "python",
   "nbconvert_exporter": "python",
   "pygments_lexer": "ipython2",
   "version": "2.7.6"
  }
 },
 "nbformat": 4,
 "nbformat_minor": 5
}
