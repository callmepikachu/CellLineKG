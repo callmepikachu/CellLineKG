{
 "cells": [
  {
   "cell_type": "code",
   "execution_count": 1,
   "id": "initial_id",
   "metadata": {
    "ExecuteTime": {
     "end_time": "2025-09-19T06:10:19.609252Z",
     "start_time": "2025-09-19T06:10:13.367123Z"
    },
    "collapsed": true,
    "jupyter": {
     "outputs_hidden": true
    }
   },
   "outputs": [],
   "source": [
    "import pandas as pd\n",
    "import numpy as np\n",
    "import scanpy as sc\n",
    "import gcsfs\n",
    "import networkx as nx\n",
    "from itertools import product\n",
    "import pandas as pd\n",
    "from joblib import Parallel, delayed\n",
    "\n",
    "import numpy as np\n",
    "import scanpy as sc\n",
    "import gcsfs\n",
    "import networkx as nx\n",
    "import mygene\n",
    "from scipy.stats import ranksums\n",
    "import random\n",
    "\n",
    "\n",
    "from scipy.stats import ranksums\n",
    "from itertools import combinations\n",
    "import random\n",
    "\n"
   ]
  },
  {
   "cell_type": "code",
   "execution_count": 2,
   "id": "35aa3a2bab68b9a8",
   "metadata": {
    "ExecuteTime": {
     "end_time": "2025-09-19T06:10:27.074100Z",
     "start_time": "2025-09-19T06:10:19.646132Z"
    }
   },
   "outputs": [
    {
     "data": {
      "text/html": [
       "<div>\n",
       "<style scoped>\n",
       "    .dataframe tbody tr th:only-of-type {\n",
       "        vertical-align: middle;\n",
       "    }\n",
       "\n",
       "    .dataframe tbody tr th {\n",
       "        vertical-align: top;\n",
       "    }\n",
       "\n",
       "    .dataframe thead th {\n",
       "        text-align: right;\n",
       "    }\n",
       "</style>\n",
       "<table border=\"1\" class=\"dataframe\">\n",
       "  <thead>\n",
       "    <tr style=\"text-align: right;\">\n",
       "      <th></th>\n",
       "      <th>protein1</th>\n",
       "      <th>protein2</th>\n",
       "      <th>combined_score</th>\n",
       "    </tr>\n",
       "  </thead>\n",
       "  <tbody>\n",
       "    <tr>\n",
       "      <th>0</th>\n",
       "      <td>9606.ENSP00000000233</td>\n",
       "      <td>9606.ENSP00000356607</td>\n",
       "      <td>173</td>\n",
       "    </tr>\n",
       "    <tr>\n",
       "      <th>1</th>\n",
       "      <td>9606.ENSP00000000233</td>\n",
       "      <td>9606.ENSP00000427567</td>\n",
       "      <td>154</td>\n",
       "    </tr>\n",
       "    <tr>\n",
       "      <th>2</th>\n",
       "      <td>9606.ENSP00000000233</td>\n",
       "      <td>9606.ENSP00000253413</td>\n",
       "      <td>151</td>\n",
       "    </tr>\n",
       "    <tr>\n",
       "      <th>3</th>\n",
       "      <td>9606.ENSP00000000233</td>\n",
       "      <td>9606.ENSP00000493357</td>\n",
       "      <td>471</td>\n",
       "    </tr>\n",
       "    <tr>\n",
       "      <th>4</th>\n",
       "      <td>9606.ENSP00000000233</td>\n",
       "      <td>9606.ENSP00000324127</td>\n",
       "      <td>201</td>\n",
       "    </tr>\n",
       "    <tr>\n",
       "      <th>...</th>\n",
       "      <td>...</td>\n",
       "      <td>...</td>\n",
       "      <td>...</td>\n",
       "    </tr>\n",
       "    <tr>\n",
       "      <th>13715399</th>\n",
       "      <td>9606.ENSP00000501317</td>\n",
       "      <td>9606.ENSP00000475489</td>\n",
       "      <td>195</td>\n",
       "    </tr>\n",
       "    <tr>\n",
       "      <th>13715400</th>\n",
       "      <td>9606.ENSP00000501317</td>\n",
       "      <td>9606.ENSP00000370447</td>\n",
       "      <td>158</td>\n",
       "    </tr>\n",
       "    <tr>\n",
       "      <th>13715401</th>\n",
       "      <td>9606.ENSP00000501317</td>\n",
       "      <td>9606.ENSP00000312272</td>\n",
       "      <td>226</td>\n",
       "    </tr>\n",
       "    <tr>\n",
       "      <th>13715402</th>\n",
       "      <td>9606.ENSP00000501317</td>\n",
       "      <td>9606.ENSP00000402092</td>\n",
       "      <td>169</td>\n",
       "    </tr>\n",
       "    <tr>\n",
       "      <th>13715403</th>\n",
       "      <td>9606.ENSP00000501317</td>\n",
       "      <td>9606.ENSP00000404074</td>\n",
       "      <td>251</td>\n",
       "    </tr>\n",
       "  </tbody>\n",
       "</table>\n",
       "<p>13715404 rows × 3 columns</p>\n",
       "</div>"
      ],
      "text/plain": [
       "                      protein1              protein2  combined_score\n",
       "0         9606.ENSP00000000233  9606.ENSP00000356607             173\n",
       "1         9606.ENSP00000000233  9606.ENSP00000427567             154\n",
       "2         9606.ENSP00000000233  9606.ENSP00000253413             151\n",
       "3         9606.ENSP00000000233  9606.ENSP00000493357             471\n",
       "4         9606.ENSP00000000233  9606.ENSP00000324127             201\n",
       "...                        ...                   ...             ...\n",
       "13715399  9606.ENSP00000501317  9606.ENSP00000475489             195\n",
       "13715400  9606.ENSP00000501317  9606.ENSP00000370447             158\n",
       "13715401  9606.ENSP00000501317  9606.ENSP00000312272             226\n",
       "13715402  9606.ENSP00000501317  9606.ENSP00000402092             169\n",
       "13715403  9606.ENSP00000501317  9606.ENSP00000404074             251\n",
       "\n",
       "[13715404 rows x 3 columns]"
      ]
     },
     "execution_count": 2,
     "metadata": {},
     "output_type": "execute_result"
    }
   ],
   "source": [
    "# ----------------------------\n",
    "# Step 1: 加载并处理 STRING PPI 数据\n",
    "# ----------------------------\n",
    "\n",
    "# 1.1 加载核心PPI网络 (protein-protein links)\n",
    "# 请将 'path/to/' 替换为你实际的文件路径\n",
    "ppi_file = '9606.protein.links.v12.0.txt'\n",
    "ppi_df = pd.read_csv(ppi_file, sep=' ')\n",
    "\n",
    "ppi_df"
   ]
  },
  {
   "cell_type": "code",
   "execution_count": 3,
   "id": "3c80524fc396b49",
   "metadata": {
    "ExecuteTime": {
     "end_time": "2025-09-19T06:11:40.062816Z",
     "start_time": "2025-09-19T06:11:36.678821Z"
    }
   },
   "outputs": [
    {
     "data": {
      "text/html": [
       "<div>\n",
       "<style scoped>\n",
       "    .dataframe tbody tr th:only-of-type {\n",
       "        vertical-align: middle;\n",
       "    }\n",
       "\n",
       "    .dataframe tbody tr th {\n",
       "        vertical-align: top;\n",
       "    }\n",
       "\n",
       "    .dataframe thead th {\n",
       "        text-align: right;\n",
       "    }\n",
       "</style>\n",
       "<table border=\"1\" class=\"dataframe\">\n",
       "  <thead>\n",
       "    <tr style=\"text-align: right;\">\n",
       "      <th></th>\n",
       "      <th>#string_protein_id</th>\n",
       "      <th>alias</th>\n",
       "      <th>source</th>\n",
       "    </tr>\n",
       "  </thead>\n",
       "  <tbody>\n",
       "    <tr>\n",
       "      <th>0</th>\n",
       "      <td>9606.ENSP00000000233</td>\n",
       "      <td>2B6H</td>\n",
       "      <td>Ensembl_PDB</td>\n",
       "    </tr>\n",
       "    <tr>\n",
       "      <th>1</th>\n",
       "      <td>9606.ENSP00000000233</td>\n",
       "      <td>2B6H</td>\n",
       "      <td>UniProt_DR_PDB</td>\n",
       "    </tr>\n",
       "    <tr>\n",
       "      <th>2</th>\n",
       "      <td>9606.ENSP00000000233</td>\n",
       "      <td>381</td>\n",
       "      <td>Ensembl_HGNC_entrez_id</td>\n",
       "    </tr>\n",
       "    <tr>\n",
       "      <th>3</th>\n",
       "      <td>9606.ENSP00000000233</td>\n",
       "      <td>381</td>\n",
       "      <td>KEGG_GENEID</td>\n",
       "    </tr>\n",
       "    <tr>\n",
       "      <th>4</th>\n",
       "      <td>9606.ENSP00000000233</td>\n",
       "      <td>381</td>\n",
       "      <td>KEGG_KEGGID_SHORT</td>\n",
       "    </tr>\n",
       "    <tr>\n",
       "      <th>...</th>\n",
       "      <td>...</td>\n",
       "      <td>...</td>\n",
       "      <td>...</td>\n",
       "    </tr>\n",
       "    <tr>\n",
       "      <th>3889202</th>\n",
       "      <td>9606.ENSP00000501317</td>\n",
       "      <td>regulatory factor X domain containing 2</td>\n",
       "      <td>Ensembl_HGNC_prev_name</td>\n",
       "    </tr>\n",
       "    <tr>\n",
       "      <th>3889203</th>\n",
       "      <td>9606.ENSP00000501317</td>\n",
       "      <td>regulatory factor X, 7</td>\n",
       "      <td>Ensembl_HGNC_prev_name</td>\n",
       "    </tr>\n",
       "    <tr>\n",
       "      <th>3889204</th>\n",
       "      <td>9606.ENSP00000501317</td>\n",
       "      <td>regulatory factor X7</td>\n",
       "      <td>Ensembl_HGNC_name</td>\n",
       "    </tr>\n",
       "    <tr>\n",
       "      <th>3889205</th>\n",
       "      <td>9606.ENSP00000501317</td>\n",
       "      <td>uc059jng.1</td>\n",
       "      <td>Ensembl_HGNC_ucsc_id</td>\n",
       "    </tr>\n",
       "    <tr>\n",
       "      <th>3889206</th>\n",
       "      <td>9606.ENSP00000501317</td>\n",
       "      <td>uc059jng.1</td>\n",
       "      <td>UniProt_DR_UCSC</td>\n",
       "    </tr>\n",
       "  </tbody>\n",
       "</table>\n",
       "<p>3889207 rows × 3 columns</p>\n",
       "</div>"
      ],
      "text/plain": [
       "           #string_protein_id  ...                  source\n",
       "0        9606.ENSP00000000233  ...             Ensembl_PDB\n",
       "1        9606.ENSP00000000233  ...          UniProt_DR_PDB\n",
       "2        9606.ENSP00000000233  ...  Ensembl_HGNC_entrez_id\n",
       "3        9606.ENSP00000000233  ...             KEGG_GENEID\n",
       "4        9606.ENSP00000000233  ...       KEGG_KEGGID_SHORT\n",
       "...                       ...  ...                     ...\n",
       "3889202  9606.ENSP00000501317  ...  Ensembl_HGNC_prev_name\n",
       "3889203  9606.ENSP00000501317  ...  Ensembl_HGNC_prev_name\n",
       "3889204  9606.ENSP00000501317  ...       Ensembl_HGNC_name\n",
       "3889205  9606.ENSP00000501317  ...    Ensembl_HGNC_ucsc_id\n",
       "3889206  9606.ENSP00000501317  ...         UniProt_DR_UCSC\n",
       "\n",
       "[3889207 rows x 3 columns]"
      ]
     },
     "execution_count": 3,
     "metadata": {},
     "output_type": "execute_result"
    }
   ],
   "source": [
    "# 1.2 加载蛋白别名映射表 (protein to gene symbol)\n",
    "aliases_file = '9606.protein.aliases.v12.0.txt'\n",
    "aliases_df = pd.read_csv(aliases_file, sep='\\t')\n",
    "\n",
    "aliases_df"
   ]
  },
  {
   "cell_type": "code",
   "execution_count": 4,
   "id": "4e08e42d7567928b",
   "metadata": {
    "ExecuteTime": {
     "end_time": "2025-09-19T06:11:40.170432Z",
     "start_time": "2025-09-19T06:11:40.141671Z"
    }
   },
   "outputs": [
    {
     "data": {
      "text/html": [
       "<div>\n",
       "<style scoped>\n",
       "    .dataframe tbody tr th:only-of-type {\n",
       "        vertical-align: middle;\n",
       "    }\n",
       "\n",
       "    .dataframe tbody tr th {\n",
       "        vertical-align: top;\n",
       "    }\n",
       "\n",
       "    .dataframe thead th {\n",
       "        text-align: right;\n",
       "    }\n",
       "</style>\n",
       "<table border=\"1\" class=\"dataframe\">\n",
       "  <thead>\n",
       "    <tr style=\"text-align: right;\">\n",
       "      <th></th>\n",
       "      <th>protein1</th>\n",
       "      <th>protein2</th>\n",
       "      <th>combined_score</th>\n",
       "    </tr>\n",
       "  </thead>\n",
       "  <tbody>\n",
       "    <tr>\n",
       "      <th>0</th>\n",
       "      <td>9606.ENSP00000000233</td>\n",
       "      <td>9606.ENSP00000356607</td>\n",
       "      <td>173</td>\n",
       "    </tr>\n",
       "    <tr>\n",
       "      <th>1</th>\n",
       "      <td>9606.ENSP00000000233</td>\n",
       "      <td>9606.ENSP00000427567</td>\n",
       "      <td>154</td>\n",
       "    </tr>\n",
       "    <tr>\n",
       "      <th>2</th>\n",
       "      <td>9606.ENSP00000000233</td>\n",
       "      <td>9606.ENSP00000253413</td>\n",
       "      <td>151</td>\n",
       "    </tr>\n",
       "    <tr>\n",
       "      <th>3</th>\n",
       "      <td>9606.ENSP00000000233</td>\n",
       "      <td>9606.ENSP00000493357</td>\n",
       "      <td>471</td>\n",
       "    </tr>\n",
       "    <tr>\n",
       "      <th>4</th>\n",
       "      <td>9606.ENSP00000000233</td>\n",
       "      <td>9606.ENSP00000324127</td>\n",
       "      <td>201</td>\n",
       "    </tr>\n",
       "    <tr>\n",
       "      <th>...</th>\n",
       "      <td>...</td>\n",
       "      <td>...</td>\n",
       "      <td>...</td>\n",
       "    </tr>\n",
       "    <tr>\n",
       "      <th>13715399</th>\n",
       "      <td>9606.ENSP00000501317</td>\n",
       "      <td>9606.ENSP00000475489</td>\n",
       "      <td>195</td>\n",
       "    </tr>\n",
       "    <tr>\n",
       "      <th>13715400</th>\n",
       "      <td>9606.ENSP00000501317</td>\n",
       "      <td>9606.ENSP00000370447</td>\n",
       "      <td>158</td>\n",
       "    </tr>\n",
       "    <tr>\n",
       "      <th>13715401</th>\n",
       "      <td>9606.ENSP00000501317</td>\n",
       "      <td>9606.ENSP00000312272</td>\n",
       "      <td>226</td>\n",
       "    </tr>\n",
       "    <tr>\n",
       "      <th>13715402</th>\n",
       "      <td>9606.ENSP00000501317</td>\n",
       "      <td>9606.ENSP00000402092</td>\n",
       "      <td>169</td>\n",
       "    </tr>\n",
       "    <tr>\n",
       "      <th>13715403</th>\n",
       "      <td>9606.ENSP00000501317</td>\n",
       "      <td>9606.ENSP00000404074</td>\n",
       "      <td>251</td>\n",
       "    </tr>\n",
       "  </tbody>\n",
       "</table>\n",
       "<p>13715404 rows × 3 columns</p>\n",
       "</div>"
      ],
      "text/plain": [
       "                      protein1              protein2  combined_score\n",
       "0         9606.ENSP00000000233  9606.ENSP00000356607             173\n",
       "1         9606.ENSP00000000233  9606.ENSP00000427567             154\n",
       "2         9606.ENSP00000000233  9606.ENSP00000253413             151\n",
       "3         9606.ENSP00000000233  9606.ENSP00000493357             471\n",
       "4         9606.ENSP00000000233  9606.ENSP00000324127             201\n",
       "...                        ...                   ...             ...\n",
       "13715399  9606.ENSP00000501317  9606.ENSP00000475489             195\n",
       "13715400  9606.ENSP00000501317  9606.ENSP00000370447             158\n",
       "13715401  9606.ENSP00000501317  9606.ENSP00000312272             226\n",
       "13715402  9606.ENSP00000501317  9606.ENSP00000402092             169\n",
       "13715403  9606.ENSP00000501317  9606.ENSP00000404074             251\n",
       "\n",
       "[13715404 rows x 3 columns]"
      ]
     },
     "execution_count": 4,
     "metadata": {},
     "output_type": "execute_result"
    }
   ],
   "source": [
    "ppi_df"
   ]
  },
  {
   "cell_type": "code",
   "execution_count": 5,
   "id": "c24b641202ff43e6",
   "metadata": {
    "ExecuteTime": {
     "end_time": "2025-09-19T06:11:40.448821Z",
     "start_time": "2025-09-19T06:11:40.301834Z"
    }
   },
   "outputs": [
    {
     "name": "stdout",
     "output_type": "stream",
     "text": [
      "Processed PPI Network: 473860 edges\n"
     ]
    },
    {
     "data": {
      "text/html": [
       "<div>\n",
       "<style scoped>\n",
       "    .dataframe tbody tr th:only-of-type {\n",
       "        vertical-align: middle;\n",
       "    }\n",
       "\n",
       "    .dataframe tbody tr th {\n",
       "        vertical-align: top;\n",
       "    }\n",
       "\n",
       "    .dataframe thead th {\n",
       "        text-align: right;\n",
       "    }\n",
       "</style>\n",
       "<table border=\"1\" class=\"dataframe\">\n",
       "  <thead>\n",
       "    <tr style=\"text-align: right;\">\n",
       "      <th></th>\n",
       "      <th>protein1</th>\n",
       "      <th>protein2</th>\n",
       "      <th>combined_score</th>\n",
       "    </tr>\n",
       "  </thead>\n",
       "  <tbody>\n",
       "    <tr>\n",
       "      <th>85</th>\n",
       "      <td>9606.ENSP00000000233</td>\n",
       "      <td>9606.ENSP00000158762</td>\n",
       "      <td>825</td>\n",
       "    </tr>\n",
       "    <tr>\n",
       "      <th>130</th>\n",
       "      <td>9606.ENSP00000000233</td>\n",
       "      <td>9606.ENSP00000357048</td>\n",
       "      <td>718</td>\n",
       "    </tr>\n",
       "    <tr>\n",
       "      <th>160</th>\n",
       "      <td>9606.ENSP00000000233</td>\n",
       "      <td>9606.ENSP00000262305</td>\n",
       "      <td>952</td>\n",
       "    </tr>\n",
       "    <tr>\n",
       "      <th>197</th>\n",
       "      <td>9606.ENSP00000000233</td>\n",
       "      <td>9606.ENSP00000329419</td>\n",
       "      <td>752</td>\n",
       "    </tr>\n",
       "    <tr>\n",
       "      <th>268</th>\n",
       "      <td>9606.ENSP00000000233</td>\n",
       "      <td>9606.ENSP00000469035</td>\n",
       "      <td>795</td>\n",
       "    </tr>\n",
       "    <tr>\n",
       "      <th>...</th>\n",
       "      <td>...</td>\n",
       "      <td>...</td>\n",
       "      <td>...</td>\n",
       "    </tr>\n",
       "    <tr>\n",
       "      <th>13715019</th>\n",
       "      <td>9606.ENSP00000501277</td>\n",
       "      <td>9606.ENSP00000326630</td>\n",
       "      <td>942</td>\n",
       "    </tr>\n",
       "    <tr>\n",
       "      <th>13715034</th>\n",
       "      <td>9606.ENSP00000501277</td>\n",
       "      <td>9606.ENSP00000263726</td>\n",
       "      <td>944</td>\n",
       "    </tr>\n",
       "    <tr>\n",
       "      <th>13715072</th>\n",
       "      <td>9606.ENSP00000501317</td>\n",
       "      <td>9606.ENSP00000290524</td>\n",
       "      <td>780</td>\n",
       "    </tr>\n",
       "    <tr>\n",
       "      <th>13715299</th>\n",
       "      <td>9606.ENSP00000501317</td>\n",
       "      <td>9606.ENSP00000305071</td>\n",
       "      <td>978</td>\n",
       "    </tr>\n",
       "    <tr>\n",
       "      <th>13715301</th>\n",
       "      <td>9606.ENSP00000501317</td>\n",
       "      <td>9606.ENSP00000296785</td>\n",
       "      <td>973</td>\n",
       "    </tr>\n",
       "  </tbody>\n",
       "</table>\n",
       "<p>473860 rows × 3 columns</p>\n",
       "</div>"
      ],
      "text/plain": [
       "                      protein1              protein2  combined_score\n",
       "85        9606.ENSP00000000233  9606.ENSP00000158762             825\n",
       "130       9606.ENSP00000000233  9606.ENSP00000357048             718\n",
       "160       9606.ENSP00000000233  9606.ENSP00000262305             952\n",
       "197       9606.ENSP00000000233  9606.ENSP00000329419             752\n",
       "268       9606.ENSP00000000233  9606.ENSP00000469035             795\n",
       "...                        ...                   ...             ...\n",
       "13715019  9606.ENSP00000501277  9606.ENSP00000326630             942\n",
       "13715034  9606.ENSP00000501277  9606.ENSP00000263726             944\n",
       "13715072  9606.ENSP00000501317  9606.ENSP00000290524             780\n",
       "13715299  9606.ENSP00000501317  9606.ENSP00000305071             978\n",
       "13715301  9606.ENSP00000501317  9606.ENSP00000296785             973\n",
       "\n",
       "[473860 rows x 3 columns]"
      ]
     },
     "execution_count": 5,
     "metadata": {},
     "output_type": "execute_result"
    }
   ],
   "source": [
    "# 1.7 (可选) 设置一个置信度阈值，只保留高置信度的相互作用\n",
    "# STRING 的 combined_score 范围是 0-1000，400 通常被认为是中等置信度\n",
    "confidence_threshold = 700\n",
    "ppi_df = ppi_df[ppi_df['combined_score'] >= confidence_threshold].copy()\n",
    "\n",
    "print(f\"Processed PPI Network: {len(ppi_df)} edges\")\n",
    "ppi_df"
   ]
  },
  {
   "cell_type": "code",
   "execution_count": 26,
   "id": "d70cdf45cdfe1adf",
   "metadata": {
    "ExecuteTime": {
     "end_time": "2025-09-19T14:10:48.857088Z",
     "start_time": "2025-09-19T14:10:48.835433Z"
    }
   },
   "outputs": [],
   "source": [
    "# ----------------------------\n",
    "# Step 2: 加载 Tahoe-100M 数据并计算细胞系特异性表达\n",
    "# ----------------------------\n",
    "\n",
    "# 2.1 初始化 GCS 文件系统 (用于读取 Tahoe-100M)\n",
    "fs = gcsfs.GCSFileSystem()\n",
    "gcp_base_path = \"gs://arc-ctc-tahoe100/2025-02-25/\"\n"
   ]
  },
  {
   "cell_type": "code",
   "execution_count": 24,
   "id": "7a943c36b888a9e",
   "metadata": {
    "ExecuteTime": {
     "end_time": "2025-09-19T14:10:29.113686Z",
     "start_time": "2025-09-19T14:08:31.896734Z"
    }
   },
   "outputs": [
    {
     "name": "stderr",
     "output_type": "stream",
     "text": [
      "Your browser has been opened to visit:\n",
      "\n",
      "    https://accounts.google.com/o/oauth2/auth?response_type=code&client_id=32555940559.apps.googleusercontent.com&redirect_uri=http%3A%2F%2Flocalhost%3A8085%2F&scope=openid+https%3A%2F%2Fwww.googleapis.com%2Fauth%2Fuserinfo.email+https%3A%2F%2Fwww.googleapis.com%2Fauth%2Fcloud-platform+https%3A%2F%2Fwww.googleapis.com%2Fauth%2Fappengine.admin+https%3A%2F%2Fwww.googleapis.com%2Fauth%2Fsqlservice.login+https%3A%2F%2Fwww.googleapis.com%2Fauth%2Fcompute+https%3A%2F%2Fwww.googleapis.com%2Fauth%2Faccounts.reauth&state=O4ZWChBP1AIWo51VyhoIbrjjueYxOg&access_type=offline&code_challenge=J-HKoxVwQ6rbMBpebXN9nXiAe1mmVUPeXP4eC8MXWII&code_challenge_method=S256\n",
      "\n",
      "\n",
      "You are now logged in as [pkqpikachu@gmail.com].\n",
      "Your current project is [None].  You can change this setting by running:\n",
      "  $ gcloud config set project PROJECT_ID\n"
     ]
    }
   ],
   "source": [
    "!gcloud auth login\n"
   ]
  },
  {
   "cell_type": "code",
   "execution_count": 27,
   "id": "3249e52411689815",
   "metadata": {
    "ExecuteTime": {
     "end_time": "2025-09-19T14:11:36.297664Z",
     "start_time": "2025-09-19T14:10:50.950940Z"
    }
   },
   "outputs": [
    {
     "name": "stdout",
     "output_type": "stream",
     "text": [
      "File size: 6.92 MB\n"
     ]
    },
    {
     "name": "stderr",
     "output_type": "stream",
     "text": [
      "Downloading: 100%|██████████| 6.92M/6.92M [00:44<00:00, 164kB/s]\n"
     ]
    },
    {
     "name": "stdout",
     "output_type": "stream",
     "text": [
      "Download completed and saved locally.\n",
      "Loading AnnData object...\n"
     ]
    },
    {
     "data": {
      "text/plain": [
       "AnnData object with n_obs × n_vars = 2000 × 62710\n",
       "    obs: 'sample', 'gene_count', 'tscp_count', 'mread_count', 'drugname_drugconc', 'drug', 'cell_line', 'sublibrary', 'BARCODE', 'pcnt_mito', 'S_score', 'G2M_score', 'phase', 'pass_filter', 'cell_name', 'plate'"
      ]
     },
     "execution_count": 27,
     "metadata": {},
     "output_type": "execute_result"
    }
   ],
   "source": [
    "import io\n",
    "import os\n",
    "from tqdm import tqdm\n",
    "\n",
    "# 2.2 加载一个 h5ad 文件\n",
    "infile = gcp_base_path + \"tutorial/plate3_2k-obs.h5ad\"\n",
    "local_file = \"plate3_2k-obs.h5ad\"  # 保存到当前目录，文件名同远程\n",
    "\n",
    "fs = gcsfs.GCSFileSystem()\n",
    "\n",
    "# 检查本地是否存在\n",
    "if not os.path.exists(local_file):\n",
    "    # 获取文件总大小 (字节)\n",
    "    file_info = fs.info(infile)\n",
    "    total_size = file_info['size']\n",
    "    print(f\"File size: {total_size / (1024*1024):.2f} MB\")\n",
    "\n",
    "    # 创建一个带进度条的文件对象并下载\n",
    "    with fs.open(infile, 'rb') as f_raw:\n",
    "        with tqdm.wrapattr(f_raw, \"read\", total=total_size, desc=\"Downloading\") as f_tqdm:\n",
    "            file_data = f_tqdm.read()  # 读取全部数据\n",
    "\n",
    "        # 保存到本地\n",
    "        with open(local_file, 'wb') as f_local:\n",
    "            f_local.write(file_data)\n",
    "    print(\"Download completed and saved locally.\")\n",
    "else:\n",
    "    print(\"Local file found, skipping download.\")\n",
    "\n",
    "# 从本地文件加载 AnnData 对象\n",
    "print(\"Loading AnnData object...\")\n",
    "adata = sc.read_h5ad(local_file)\n",
    "\n",
    "adata"
   ]
  },
  {
   "cell_type": "code",
   "execution_count": 29,
   "id": "391f12007cbb5998",
   "metadata": {
    "ExecuteTime": {
     "end_time": "2025-09-19T14:11:57.357960Z",
     "start_time": "2025-09-19T14:11:57.325353Z"
    }
   },
   "outputs": [
    {
     "name": "stderr",
     "output_type": "stream",
     "text": [
      "C:\\Users\\Keqin\\AppData\\Local\\Temp\\ipykernel_20536\\3998034637.py:3: ImplicitModificationWarning: Trying to modify attribute `.obs` of view, initializing view as actual.\n",
      "  adata.obs['drug'] = adata.obs['drug'].str.strip()\n"
     ]
    },
    {
     "data": {
      "text/plain": [
       "View of AnnData object with n_obs × n_vars = 1717 × 62710\n",
       "    obs: 'sample', 'gene_count', 'tscp_count', 'mread_count', 'drugname_drugconc', 'drug', 'cell_line', 'sublibrary', 'BARCODE', 'pcnt_mito', 'S_score', 'G2M_score', 'phase', 'pass_filter', 'cell_name', 'plate'"
      ]
     },
     "execution_count": 29,
     "metadata": {},
     "output_type": "execute_result"
    }
   ],
   "source": [
    "# 2.3 数据预处理\n",
    "# 清理 drug 列\n",
    "adata.obs['drug'] = adata.obs['drug'].str.strip()\n",
    "# 只保留高质量细胞\n",
    "adata = adata[adata.obs['pass_filter'] == 'full', :]\n",
    "adata"
   ]
  },
  {
   "cell_type": "code",
   "execution_count": 30,
   "id": "2b5b04bd6a7d6cb9",
   "metadata": {
    "ExecuteTime": {
     "end_time": "2025-09-19T14:12:01.139128Z",
     "start_time": "2025-09-19T14:12:01.130404Z"
    }
   },
   "outputs": [
    {
     "name": "stdout",
     "output_type": "stream",
     "text": [
      "Found 50 cell lines: ['SHP-77', 'NCI-H1792', 'LoVo', 'A498', 'PANC-1', 'CFPAC-1', 'RKO', 'HT-29', 'NCI-H2347', 'KATO III', 'HCT15', 'J82', 'NCI-H1573', 'HOP62', 'SW480', 'Panc 03.27', 'NCI-H460', 'AsPC-1', 'H4', 'HEC-1-A', 'HS-578T', 'SW 1088', 'LS 180', 'A-172', 'NCI-H2030', 'SNU-423', 'SW1417', 'C-33 A', 'RPMI-7951', 'A549', 'BT-474', 'A-427', 'NCI-H23', 'HepG2/C3A', 'SW48', 'MIA PaCa-2', 'LOX-IMVI', 'hTERT-HPNE', 'COLO 205', 'C32', 'SW 900', 'AN3 CA', 'Hs 766T', 'SNU-1', 'NCI-H596', 'SK-MEL-2', 'NCI-H2122', 'SW 1271', 'NCI-H661', 'CHP-212']\n"
     ]
    }
   ],
   "source": [
    "# 2.4 获取数据集中所有唯一的细胞系\n",
    "all_cell_lines = adata.obs['cell_name'].unique()\n",
    "print(f\"Found {len(all_cell_lines)} cell lines: {list(all_cell_lines)}\")\n"
   ]
  },
  {
   "cell_type": "code",
   "execution_count": null,
   "id": "6ed08545dd35198a",
   "metadata": {
    "ExecuteTime": {
     "end_time": "2025-09-19T14:12:01.603028Z",
     "start_time": "2025-09-19T14:12:01.592418Z"
    }
   },
   "outputs": [],
   "source": []
  },
  {
   "cell_type": "code",
   "execution_count": null,
   "id": "d3d579d1e078ab6e",
   "metadata": {
    "ExecuteTime": {
     "end_time": "2025-09-19T14:12:03.349806Z",
     "start_time": "2025-09-19T14:12:02.942588Z"
    }
   },
   "outputs": [],
   "source": [
    "# 2.5 为每个细胞系计算基因的平均表达量\n",
    "# 创建一个字典来存储 {cell_line: Series of mean expression}\n",
    "cell_line_expression = {}\n",
    "\n",
    "for cell_line in all_cell_lines:\n",
    "    # 筛选属于该细胞系的所有细胞\n",
    "    cells_in_line = adata.obs[adata.obs['cell_name'] == cell_line].index\n",
    "    if len(cells_in_line) == 0:\n",
    "        continue\n",
    "\n",
    "    # 计算平均表达量\n",
    "    mean_expr = np.mean(adata[cells_in_line, :].X, axis=0).A1\n",
    "    # 创建一个 Pandas Series, 索引是基因名\n",
    "    expr_series = pd.Series(mean_expr, index=adata.var_names)\n",
    "    expr_series_sorted = expr_series.sort_values(ascending=False)\n",
    "\n",
    "    cell_line_expression[cell_line] = expr_series_sorted\n",
    "\n",
    "cell_line_expression"
   ]
  },
  {
   "cell_type": "code",
   "execution_count": 32,
   "id": "deee842d308f2972",
   "metadata": {
    "ExecuteTime": {
     "end_time": "2025-09-19T14:12:04.448080Z",
     "start_time": "2025-09-19T14:12:04.440059Z"
    }
   },
   "outputs": [
    {
     "name": "stdout",
     "output_type": "stream",
     "text": [
      "Tahoe-100M 数据集的基因命名规则 (前20个):\n",
      "['TSPAN6', 'TNMD', 'DPM1', 'SCYL3', 'C1orf112', 'FGR', 'CFH', 'FUCA2', 'GCLC', 'NFYA', 'STPG1', 'NIPAL3', 'LAS1L', 'ENPP4', 'SEMA3F', 'CFTR', 'ANKIB1', 'CYP51A1', 'KRIT1', 'RAD52']\n",
      "\n",
      "细胞系 'SHP-77' 的表达数据基因名 (前10个):\n",
      "['MALAT1', 'MT-RNR2', 'MT-RNR1', 'NEAT1', 'NALF1', 'HSP90AA1', 'PDE10A', 'MT-ND4', 'EPIC1', 'ENSG00000285534']\n"
     ]
    }
   ],
   "source": [
    "# 查看 Tahoe 数据集中基因名的前20个\n",
    "print(\"Tahoe-100M 数据集的基因命名规则 (前20个):\")\n",
    "print(adata.var_names[:20].tolist())\n",
    "\n",
    "# 查看 cell_line_expression 中某个细胞系的基因名前10个，进一步确认\n",
    "sample_cell_line = list(cell_line_expression.keys())[0] # 取第一个细胞系\n",
    "print(f\"\\n细胞系 '{sample_cell_line}' 的表达数据基因名 (前10个):\")\n",
    "print(cell_line_expression[sample_cell_line].index[:10].tolist())"
   ]
  },
  {
   "cell_type": "code",
   "execution_count": 36,
   "id": "6c90ad35cd0d3fd8",
   "metadata": {
    "ExecuteTime": {
     "end_time": "2025-09-19T14:18:03.033043Z",
     "start_time": "2025-09-19T14:18:02.102793Z"
    }
   },
   "outputs": [],
   "source": [
    "# 修正：精确筛选出 Gene Symbol\n",
    "# 优先选择 'Ensembl_HGNC_symbol'，如果没有，则选择 'Ensembl_HGNC'\n",
    "# 创建一个优先级列表\n",
    "priority_sources = ['Ensembl_HGNC_symbol', 'Ensembl_HGNC', 'BioMart_HUGO']\n",
    "\n",
    "# 筛选高优先级的别名\n",
    "high_priority_aliases = aliases_df[aliases_df['source'].isin(priority_sources)].copy()\n",
    "\n",
    "# 创建映射字典: 取每个蛋白的第一个高优先级别名\n",
    "protein_to_hgnc_symbol = high_priority_aliases.groupby('#string_protein_id')['alias'].first().to_dict()\n",
    "\n",
    "# 将PPI网络中的蛋白ID转换为HGNC Symbol\n",
    "ppi_df['gene_a'] = ppi_df['protein1'].map(protein_to_hgnc_symbol)\n",
    "ppi_df['gene_b'] = ppi_df['protein2'].map(protein_to_hgnc_symbol)\n",
    "\n",
    "# 移除映射失败的行 (即 gene_a 或 gene_b 为 NaN 的行)\n",
    "ppi_df = ppi_df.dropna(subset=['gene_a', 'gene_b']).copy()"
   ]
  },
  {
   "cell_type": "code",
   "execution_count": 37,
   "id": "71ee631a02891f70",
   "metadata": {
    "ExecuteTime": {
     "end_time": "2025-09-19T14:18:54.299032Z",
     "start_time": "2025-09-19T14:18:07.514513Z"
    }
   },
   "outputs": [
    {
     "name": "stderr",
     "output_type": "stream",
     "text": [
      "Input sequence provided is already in string format. No operation performed\n",
      "Input sequence provided is already in string format. No operation performed\n"
     ]
    },
    {
     "name": "stdout",
     "output_type": "stream",
     "text": [
      "正在将 20930 个 Ensembl Gene ID 转换为 HGNC Symbol...\n"
     ]
    },
    {
     "name": "stderr",
     "output_type": "stream",
     "text": [
      "26 input query terms found dup hits:\t[('ENSG00000215156', 2), ('ENSG00000226506', 2), ('ENSG00000228044', 2), ('ENSG00000228566', 2), ('E\n",
      "1078 input query terms found no hit:\t['ENSG00000131484', 'ENSG00000132832', 'ENSG00000188525', 'ENSG00000198106', 'ENSG00000203520', 'ENS\n"
     ]
    },
    {
     "name": "stdout",
     "output_type": "stream",
     "text": [
      "移除 16890 个无法映射的基因。\n"
     ]
    }
   ],
   "source": [
    "\n",
    "# 初始化 mygene 客户端\n",
    "mg = mygene.MyGeneInfo()\n",
    "\n",
    "def convert_ensg_to_symbol(ensg_list):\n",
    "    \"\"\"将 Ensembl Gene ID 列表批量转换为 HUGO Gene Symbol\"\"\"\n",
    "    if not ensg_list:\n",
    "        return {}\n",
    "    results = mg.querymany(ensg_list, scopes='ensembl.gene', species='human', fields='symbol', returnall=True)\n",
    "    mapping = {}\n",
    "    for hit in results['out']:\n",
    "        query = hit['query']\n",
    "        symbol = hit.get('symbol', None)\n",
    "        mapping[query] = symbol\n",
    "    return mapping\n",
    "\n",
    "# 获取 Tahoe 中所有基因名\n",
    "all_tahoe_genes = adata.var_names.tolist()\n",
    "\n",
    "# 筛选出 ENSG 格式的基因\n",
    "ensg_genes = [gene for gene in all_tahoe_genes if gene.startswith('ENSG')]\n",
    "\n",
    "if ensg_genes:\n",
    "    print(f\"正在将 {len(ensg_genes)} 个 Ensembl Gene ID 转换为 HGNC Symbol...\")\n",
    "    ensg_to_symbol = convert_ensg_to_symbol(ensg_genes)\n",
    "\n",
    "    # 创建一个完整的从原始基因名到 HGNC Symbol 的映射\n",
    "    gene_name_mapping = {}\n",
    "    for gene in all_tahoe_genes:\n",
    "        if gene.startswith('ENSG'):\n",
    "            # 如果是ENSG，用转换后的symbol，如果转换失败则保留原ID或设为None\n",
    "            gene_name_mapping[gene] = ensg_to_symbol.get(gene, None)\n",
    "        else:\n",
    "            # 如果不是ENSG，假设它已经是symbol\n",
    "            gene_name_mapping[gene] = gene\n",
    "\n",
    "    # 应用映射：创建一个新的列 'hgnc_symbol'\n",
    "    adata.var['hgnc_symbol'] = adata.var_names.map(gene_name_mapping)\n",
    "\n",
    "    # 移除映射失败的基因 (即 hgnc_symbol 为 None 的行)\n",
    "    valid_mask = adata.var['hgnc_symbol'].notnull()\n",
    "    print(f\"移除 {len(adata.var) - valid_mask.sum()} 个无法映射的基因。\")\n",
    "    # 注意：这里我们只是标记，实际计算时再筛选\n",
    "else:\n",
    "    print(\"Tahoe 数据中未发现 Ensembl Gene ID。\")\n",
    "    adata.var['hgnc_symbol'] = adata.var_names"
   ]
  },
  {
   "cell_type": "code",
   "execution_count": 38,
   "id": "b0e924e030f678f7",
   "metadata": {
    "ExecuteTime": {
     "end_time": "2025-09-19T14:19:21.914945Z",
     "start_time": "2025-09-19T14:19:21.890998Z"
    }
   },
   "outputs": [
    {
     "data": {
      "text/html": [
       "<div>\n",
       "<style scoped>\n",
       "    .dataframe tbody tr th:only-of-type {\n",
       "        vertical-align: middle;\n",
       "    }\n",
       "\n",
       "    .dataframe tbody tr th {\n",
       "        vertical-align: top;\n",
       "    }\n",
       "\n",
       "    .dataframe thead th {\n",
       "        text-align: right;\n",
       "    }\n",
       "</style>\n",
       "<table border=\"1\" class=\"dataframe\">\n",
       "  <thead>\n",
       "    <tr style=\"text-align: right;\">\n",
       "      <th></th>\n",
       "      <th>protein1</th>\n",
       "      <th>protein2</th>\n",
       "      <th>combined_score</th>\n",
       "      <th>gene_a</th>\n",
       "      <th>gene_b</th>\n",
       "    </tr>\n",
       "  </thead>\n",
       "  <tbody>\n",
       "    <tr>\n",
       "      <th>85</th>\n",
       "      <td>9606.ENSP00000000233</td>\n",
       "      <td>9606.ENSP00000158762</td>\n",
       "      <td>825</td>\n",
       "      <td>ARF5</td>\n",
       "      <td>ACAP1</td>\n",
       "    </tr>\n",
       "    <tr>\n",
       "      <th>130</th>\n",
       "      <td>9606.ENSP00000000233</td>\n",
       "      <td>9606.ENSP00000357048</td>\n",
       "      <td>718</td>\n",
       "      <td>ARF5</td>\n",
       "      <td>COPA</td>\n",
       "    </tr>\n",
       "    <tr>\n",
       "      <th>160</th>\n",
       "      <td>9606.ENSP00000000233</td>\n",
       "      <td>9606.ENSP00000262305</td>\n",
       "      <td>952</td>\n",
       "      <td>ARF5</td>\n",
       "      <td>RAB11FIP3</td>\n",
       "    </tr>\n",
       "    <tr>\n",
       "      <th>197</th>\n",
       "      <td>9606.ENSP00000000233</td>\n",
       "      <td>9606.ENSP00000329419</td>\n",
       "      <td>752</td>\n",
       "      <td>ARF5</td>\n",
       "      <td>COPB2</td>\n",
       "    </tr>\n",
       "    <tr>\n",
       "      <th>268</th>\n",
       "      <td>9606.ENSP00000000233</td>\n",
       "      <td>9606.ENSP00000469035</td>\n",
       "      <td>795</td>\n",
       "      <td>ARF5</td>\n",
       "      <td>COPE</td>\n",
       "    </tr>\n",
       "    <tr>\n",
       "      <th>...</th>\n",
       "      <td>...</td>\n",
       "      <td>...</td>\n",
       "      <td>...</td>\n",
       "      <td>...</td>\n",
       "      <td>...</td>\n",
       "    </tr>\n",
       "    <tr>\n",
       "      <th>13715019</th>\n",
       "      <td>9606.ENSP00000501277</td>\n",
       "      <td>9606.ENSP00000326630</td>\n",
       "      <td>942</td>\n",
       "      <td>LDB1</td>\n",
       "      <td>ZFPM1</td>\n",
       "    </tr>\n",
       "    <tr>\n",
       "      <th>13715034</th>\n",
       "      <td>9606.ENSP00000501277</td>\n",
       "      <td>9606.ENSP00000263726</td>\n",
       "      <td>944</td>\n",
       "      <td>LDB1</td>\n",
       "      <td>LHX4</td>\n",
       "    </tr>\n",
       "    <tr>\n",
       "      <th>13715072</th>\n",
       "      <td>9606.ENSP00000501317</td>\n",
       "      <td>9606.ENSP00000290524</td>\n",
       "      <td>780</td>\n",
       "      <td>RFX7</td>\n",
       "      <td>RFX5</td>\n",
       "    </tr>\n",
       "    <tr>\n",
       "      <th>13715299</th>\n",
       "      <td>9606.ENSP00000501317</td>\n",
       "      <td>9606.ENSP00000305071</td>\n",
       "      <td>978</td>\n",
       "      <td>RFX7</td>\n",
       "      <td>RFXANK</td>\n",
       "    </tr>\n",
       "    <tr>\n",
       "      <th>13715301</th>\n",
       "      <td>9606.ENSP00000501317</td>\n",
       "      <td>9606.ENSP00000296785</td>\n",
       "      <td>973</td>\n",
       "      <td>RFX7</td>\n",
       "      <td>ANKRA2</td>\n",
       "    </tr>\n",
       "  </tbody>\n",
       "</table>\n",
       "<p>467610 rows × 5 columns</p>\n",
       "</div>"
      ],
      "text/plain": [
       "                      protein1              protein2  ...  gene_a     gene_b\n",
       "85        9606.ENSP00000000233  9606.ENSP00000158762  ...    ARF5      ACAP1\n",
       "130       9606.ENSP00000000233  9606.ENSP00000357048  ...    ARF5       COPA\n",
       "160       9606.ENSP00000000233  9606.ENSP00000262305  ...    ARF5  RAB11FIP3\n",
       "197       9606.ENSP00000000233  9606.ENSP00000329419  ...    ARF5      COPB2\n",
       "268       9606.ENSP00000000233  9606.ENSP00000469035  ...    ARF5       COPE\n",
       "...                        ...                   ...  ...     ...        ...\n",
       "13715019  9606.ENSP00000501277  9606.ENSP00000326630  ...    LDB1      ZFPM1\n",
       "13715034  9606.ENSP00000501277  9606.ENSP00000263726  ...    LDB1       LHX4\n",
       "13715072  9606.ENSP00000501317  9606.ENSP00000290524  ...    RFX7       RFX5\n",
       "13715299  9606.ENSP00000501317  9606.ENSP00000305071  ...    RFX7     RFXANK\n",
       "13715301  9606.ENSP00000501317  9606.ENSP00000296785  ...    RFX7     ANKRA2\n",
       "\n",
       "[467610 rows x 5 columns]"
      ]
     },
     "execution_count": 38,
     "metadata": {},
     "output_type": "execute_result"
    }
   ],
   "source": [
    "ppi_df"
   ]
  },
  {
   "cell_type": "code",
   "execution_count": 39,
   "id": "445f71b3de431e01",
   "metadata": {
    "ExecuteTime": {
     "end_time": "2025-09-19T14:19:31.036099Z",
     "start_time": "2025-09-19T14:19:30.869861Z"
    }
   },
   "outputs": [
    {
     "name": "stdout",
     "output_type": "stream",
     "text": [
      "STRING 网络基因总数: 16015\n",
      "Tahoe 有效基因总数: 45686\n",
      "候选基因 (交集): 15849\n"
     ]
    }
   ],
   "source": [
    "# 获取STRING PPI网络中的所有唯一基因 (Symbol)\n",
    "string_genes = set(ppi_df['gene_a']).union(set(ppi_df['gene_b']))\n",
    "\n",
    "# 获取Tahoe中所有有效的HGNC Symbol\n",
    "tahoe_genes = set(adata.var['hgnc_symbol'].dropna())\n",
    "\n",
    "# 取交集作为候选基因\n",
    "candidate_genes = list(string_genes & tahoe_genes)\n",
    "\n",
    "print(f\"STRING 网络基因总数: {len(string_genes)}\")\n",
    "print(f\"Tahoe 有效基因总数: {len(tahoe_genes)}\")\n",
    "print(f\"候选基因 (交集): {len(candidate_genes)}\")\n",
    "\n",
    "# 可选：保存候选基因列表供后续使用\n",
    "pd.Series(candidate_genes, name='hgnc_symbol').to_csv('candidate_genes.csv', index=False)"
   ]
  },
  {
   "cell_type": "code",
   "execution_count": 44,
   "id": "a64ca3ddbff99583",
   "metadata": {
    "ExecuteTime": {
     "end_time": "2025-09-19T15:27:13.230451Z",
     "start_time": "2025-09-19T15:25:30.613822Z"
    }
   },
   "outputs": [
    {
     "name": "stderr",
     "output_type": "stream",
     "text": [
      "Input sequence provided is already in string format. No operation performed\n",
      "Input sequence provided is already in string format. No operation performed\n"
     ]
    },
    {
     "name": "stdout",
     "output_type": "stream",
     "text": [
      "正在将候选基因的 HGNC Symbol 映射到 Entrez Gene ID...\n"
     ]
    },
    {
     "name": "stderr",
     "output_type": "stream",
     "text": [
      "19 input query terms found dup hits:\t[('MMD2', 2), ('PRKY', 2), ('TRIM16L', 2), ('CAST', 2), ('GLRA4', 2), ('CDR1', 2), ('IGKV1-33', 2), \n",
      "105 input query terms found no hit:\t['CCDC96', 'MRPS36', 'C19orf54', 'GK3P', 'TMEM262', 'TMEM199', 'HHLA3', 'FAM104A', 'GPR182', 'BMT2',\n"
     ]
    },
    {
     "name": "stdout",
     "output_type": "stream",
     "text": [
      "成功映射到 Entrez ID 的候选基因数量: 15737\n"
     ]
    }
   ],
   "source": [
    "def convert_symbol_to_entrez(symbol_list):\n",
    "    \"\"\"将 HUGO Gene Symbol 列表批量转换为 Entrez Gene ID\"\"\"\n",
    "    if not symbol_list:\n",
    "        return {}\n",
    "    results = mg.querymany(symbol_list, scopes='symbol', species='human', fields='entrezgene', returnall=True)\n",
    "    mapping = {}\n",
    "    for hit in results['out']:\n",
    "        query = hit['query']\n",
    "        entrez_id = hit.get('entrezgene', None)\n",
    "        mapping[query] = entrez_id\n",
    "    return mapping\n",
    "\n",
    "print(\"正在将候选基因的 HGNC Symbol 映射到 Entrez Gene ID...\")\n",
    "symbol_to_entrez = convert_symbol_to_entrez(candidate_genes)\n",
    "\n",
    "# 创建最终的候选基因Entrez ID列表\n",
    "candidate_entrez_ids = [eid for eid in symbol_to_entrez.values() if eid is not None]\n",
    "print(f\"成功映射到 Entrez ID 的候选基因数量: {len(candidate_entrez_ids)}\")\n",
    "\n",
    "# 创建一个从 Symbol 到 Entrez ID 的映射字典，供后续分析使用\n",
    "final_gene_mapping = {sym: eid for sym, eid in symbol_to_entrez.items() if eid is not None}"
   ]
  },
  {
   "cell_type": "code",
   "execution_count": null,
   "id": "65a1c70f47c1c5ac",
   "metadata": {
    "ExecuteTime": {
     "end_time": "2025-09-19T14:26:12.439819Z",
     "start_time": "2025-09-19T14:26:12.399787Z"
    }
   },
   "outputs": [],
   "source": [
    "candidate_entrez_ids"
   ]
  },
  {
   "cell_type": "code",
   "execution_count": 48,
   "id": "6c8f3581ff7db151",
   "metadata": {
    "ExecuteTime": {
     "end_time": "2025-09-19T16:15:24.691268Z",
     "start_time": "2025-09-19T16:15:24.664537Z"
    }
   },
   "outputs": [],
   "source": [
    "\n",
    "\n",
    "# ----------------------------\n",
    "# Step 3: 核心 - 为每个细胞系识别“稳健激活基因”\n",
    "# ----------------------------\n",
    "\n",
    "def identify_robust_marker_genes(adata, target_cell_line, candidate_symbols, n_iterations=50, min_presence=0.9, pval_threshold=0.01):\n",
    "    \"\"\"\n",
    "    使用 Wilcoxon 秩和检验 + Bootstrap 重复采样，识别在目标细胞系中稳健激活的基因。\n",
    "\n",
    "    Args:\n",
    "        adata: AnnData 对象\n",
    "        target_cell_line: 目标细胞系名称\n",
    "        n_iterations: Bootstrap 重复次数\n",
    "        min_presence: 基因必须在至少多少比例的迭代中被识别为显著，才被认为是“稳健”的\n",
    "        pval_threshold: Wilcoxon 检验的p值阈值\n",
    "\n",
    "    Returns:\n",
    "        stable_genes: 稳健激活基因列表\n",
    "    \"\"\"\n",
    "    gene_names = candidate_symbols\n",
    "    n_genes = len(gene_names)\n",
    "\n",
    "    # 存储每次迭代中被识别为显著的基因索引\n",
    "    significant_gene_indices_per_iter = []\n",
    "\n",
    "    for i in tqdm(range(n_iterations)):\n",
    "        # 对目标细胞系进行下采样 (Bootstrap)\n",
    "        target_cells = adata.obs[adata.obs['cell_name'] == target_cell_line].index.tolist()\n",
    "        if len(target_cells) < 10: # 如果细胞太少，跳过或报错\n",
    "            print(f\"Warning: Too few cells ({len(target_cells)}) for {target_cell_line}. Skipping robust marker identification.\")\n",
    "            return []\n",
    "\n",
    "        # Bootstrap: 从目标细胞系中随机有放回地抽取与原始数量相同的细胞\n",
    "        boot_target_cells = random.choices(target_cells, k=len(target_cells))\n",
    "\n",
    "        # 非目标细胞系作为背景\n",
    "        background_cells = adata.obs[adata.obs['cell_name'] != target_cell_line].index.tolist()\n",
    "        if len(background_cells) == 0:\n",
    "            print(f\"Warning: No background cells found for {target_cell_line}.\")\n",
    "            return []\n",
    "\n",
    "        # 对每个基因进行 Wilcoxon 秩和检验\n",
    "        significant_indices = []\n",
    "        for gene_idx in tqdm(range(n_genes)):\n",
    "            target_expr = adata[boot_target_cells, gene_idx].X.toarray().flatten()\n",
    "            background_expr = adata[background_cells, gene_idx].X.toarray().flatten()\n",
    "\n",
    "            # 执行 Wilcoxon 秩和检验\n",
    "            try:\n",
    "                stat, pval = ranksums(target_expr, background_expr, alternative='greater')\n",
    "                if pval < pval_threshold:\n",
    "                    significant_indices.append(gene_idx)\n",
    "            except:\n",
    "                # 如果检验失败（如所有值相等），跳过\n",
    "                continue\n",
    "\n",
    "        significant_gene_indices_per_iter.append(set(significant_indices))\n",
    "\n",
    "    # 计算每个基因在多少次迭代中被识别为显著\n",
    "    gene_appearance_count = np.zeros(n_genes, dtype=int)\n",
    "    for sig_set in significant_gene_indices_per_iter:\n",
    "        for idx in sig_set:\n",
    "            gene_appearance_count[idx] += 1\n",
    "\n",
    "    # 筛选“稳健”基因：出现频率 >= min_presence\n",
    "    min_appearances = int(n_iterations * min_presence)\n",
    "    stable_gene_indices = np.where(gene_appearance_count >= min_appearances)[0]\n",
    "    stable_genes = [gene_names[i] for i in stable_gene_indices]\n",
    "\n",
    "    print(f\"Cell Line '{target_cell_line}': Found {len(stable_genes)} robust marker genes (appeared in >= {min_appearances}/{n_iterations} iterations).\")\n",
    "\n",
    "    stable_genes_entrez = [final_gene_mapping.get(sym) for sym in stable_genes if sym in final_gene_mapping]\n",
    "    return stable_genes_entrez # 返回 Entrez ID 列表，与 PrimeKG 对齐\n",
    "\n",
    "\n",
    "\n"
   ]
  },
  {
   "cell_type": "code",
   "execution_count": 49,
   "id": "9466e5d90665f4a2",
   "metadata": {
    "ExecuteTime": {
     "end_time": "2025-09-19T16:46:39.779795Z",
     "start_time": "2025-09-19T16:15:39.528130Z"
    }
   },
   "outputs": [
    {
     "name": "stdout",
     "output_type": "stream",
     "text": [
      "细胞数 >= 10 的细胞系有44个\n"
     ]
    },
    {
     "data": {
      "text/plain": [
       "{}"
      ]
     },
     "execution_count": 49,
     "metadata": {},
     "output_type": "execute_result"
    }
   ],
   "source": [
    "# 在主循环前，预先计算每个细胞系的细胞数\n",
    "cell_line_counts = adata.obs['cell_name'].value_counts()\n",
    "# 只处理细胞数 >= 10 的细胞系\n",
    "valid_cell_lines = cell_line_counts[cell_line_counts >= 10].index.tolist()\n",
    "\n",
    "print(f\"细胞数 >= 10 的细胞系有{len(valid_cell_lines)}个\")\n",
    "\n",
    "\n",
    "# 为每个细胞系识别稳健激活基因\n",
    "robust_marker_genes = {}\n",
    "\n",
    "def process_single_cell_line(cell_line):\n",
    "    \"\"\"处理单个细胞系的函数\"\"\"\n",
    "    print(f\"--- Processing Cell Line: {cell_line} ---\")\n",
    "    markers = identify_robust_marker_genes(\n",
    "        adata,\n",
    "        target_cell_line=cell_line,\n",
    "        candidate_symbols=candidate_genes,\n",
    "        n_iterations=1,\n",
    "        min_presence=0.9,\n",
    "        pval_threshold=0.01\n",
    "    )\n",
    "    return cell_line, markers\n",
    "\n",
    "# 并行执行\n",
    "results = Parallel(n_jobs=-1)(\n",
    "    delayed(process_single_cell_line)(cl) for cl in valid_cell_lines\n",
    ")\n",
    "\n",
    "\n"
   ]
  },
  {
   "cell_type": "code",
   "execution_count": null,
   "id": "11c75ba550b42a11",
   "metadata": {
    "ExecuteTime": {
     "end_time": "2025-09-19T17:00:43.194484Z",
     "start_time": "2025-09-19T17:00:42.724073Z"
    }
   },
   "outputs": [],
   "source": [
    "robust_marker_genes = dict(results)\n",
    "robust_marker_genes"
   ]
  },
  {
   "cell_type": "code",
   "execution_count": 52,
   "id": "d64416232b08d26f",
   "metadata": {
    "ExecuteTime": {
     "end_time": "2025-09-19T17:02:07.661220Z",
     "start_time": "2025-09-19T17:02:06.754628Z"
    }
   },
   "outputs": [
    {
     "name": "stdout",
     "output_type": "stream",
     "text": [
      "Protein-Protein edges saved to 'protein2protein.csv' (461922 edges)\n",
      "\n",
      "--- Sample from protein2protein.csv ---\n",
      "    source     target  weight\n",
      "85    ARF5      ACAP1     825\n",
      "130   ARF5       COPA     718\n",
      "160   ARF5  RAB11FIP3     952\n",
      "197   ARF5      COPB2     752\n",
      "268   ARF5       COPE     795\n"
     ]
    }
   ],
   "source": [
    "# ----------------------------\n",
    "# Step 4: 构建protein-protein边\n",
    "# ----------------------------\n",
    "\n",
    "# 筛选出两端基因都在候选基因列表中的边\n",
    "df_p2p = ppi_df[\n",
    "    (ppi_df['gene_a'].isin(candidate_genes)) &\n",
    "    (ppi_df['gene_b'].isin(candidate_genes))\n",
    "].copy()\n",
    "\n",
    "# 重命名列，使其语义更清晰\n",
    "df_p2p = df_p2p.rename(columns={'gene_a': 'source', 'gene_b': 'target', 'combined_score': 'weight'})\n",
    "\n",
    "# 选择最终要导出的列\n",
    "df_p2p = df_p2p[['source', 'target', 'weight']]\n",
    "\n",
    "# 导出到 CSV\n",
    "df_p2p.to_csv('protein2protein.csv', index=False)\n",
    "print(f\"Protein-Protein edges saved to 'protein2protein.csv' ({len(df_p2p)} edges)\")\n",
    "\n",
    "# 查看示例\n",
    "print(\"\\n--- Sample from protein2protein.csv ---\")\n",
    "print(df_p2p.head())"
   ]
  },
  {
   "cell_type": "code",
   "execution_count": 53,
   "id": "ead8001932ff94aa",
   "metadata": {
    "ExecuteTime": {
     "end_time": "2025-09-19T17:02:51.329703Z",
     "start_time": "2025-09-19T17:02:48.864951Z"
    }
   },
   "outputs": [
    {
     "name": "stdout",
     "output_type": "stream",
     "text": [
      "Protein-Cell Line edges saved to 'protein2cellline.csv' (792450 edges)\n",
      "\n",
      "--- Sample from protein2cellline.csv ---\n",
      "     source  target    weight\n",
      "0  HSP90AA1  SHP-77  3.272727\n",
      "1    PDE10A  SHP-77  3.090909\n",
      "2    MT-ND4  SHP-77  2.727273\n",
      "3      GPC6  SHP-77  2.545455\n",
      "4    MT-ND5  SHP-77  2.181818\n"
     ]
    }
   ],
   "source": [
    "# Step 5: 构建 Protein-Cell Line 边\n",
    "\n",
    "# 创建一个空列表来存储所有的边\n",
    "p2cl_edges = []\n",
    "\n",
    "# 遍历每个细胞系\n",
    "for cell_line, expr_series in cell_line_expression.items():\n",
    "    # 筛选出该细胞系中属于候选基因的表达量\n",
    "    # 注意：expr_series 的 index 是基因名 (HGNC Symbol)\n",
    "    filtered_expr = expr_series[expr_series.index.isin(candidate_genes)]\n",
    "\n",
    "    # 将其转换为 DataFrame 并重命名\n",
    "    df_temp = filtered_expr.reset_index()\n",
    "    df_temp.columns = ['source', 'weight'] # 'source' 是基因名\n",
    "    df_temp['target'] = cell_line # 'target' 是细胞系名\n",
    "\n",
    "    # 只保留需要的列，并添加到总列表中\n",
    "    df_temp = df_temp[['source', 'target', 'weight']]\n",
    "    p2cl_edges.append(df_temp)\n",
    "\n",
    "# 合并所有细胞系的数据\n",
    "df_p2cl = pd.concat(p2cl_edges, ignore_index=True)\n",
    "\n",
    "# 导出到 CSV\n",
    "df_p2cl.to_csv('protein2cellline.csv', index=False)\n",
    "print(f\"Protein-Cell Line edges saved to 'protein2cellline.csv' ({len(df_p2cl)} edges)\")\n",
    "\n",
    "# 查看示例\n",
    "print(\"\\n--- Sample from protein2cellline.csv ---\")\n",
    "print(df_p2cl.head())"
   ]
  },
  {
   "cell_type": "code",
   "execution_count": 54,
   "id": "af55f5b9d7afb62",
   "metadata": {
    "ExecuteTime": {
     "end_time": "2025-09-19T17:03:02.553004Z",
     "start_time": "2025-09-19T17:03:02.042192Z"
    }
   },
   "outputs": [
    {
     "name": "stdout",
     "output_type": "stream",
     "text": [
      "\n",
      "Protein-Protein Network:\n",
      "  - Unique Proteins: 15837\n",
      "  - Total Edges: 461922\n",
      "\n",
      "Protein-Cell Line Network:\n",
      "  - Unique Proteins: 15849\n",
      "  - Unique Cell Lines: 50\n",
      "  - Total Edges: 792450\n",
      "\n",
      "Any NaN in P2P? False\n",
      "Any NaN in P2CL? False\n"
     ]
    }
   ],
   "source": [
    "# 验证 Protein-Protein 边\n",
    "print(f\"\\nProtein-Protein Network:\")\n",
    "print(f\"  - Unique Proteins: {df_p2p['source'].nunique() + df_p2p['target'].nunique() - len(set(df_p2p['source']) & set(df_p2p['target']))}\")\n",
    "print(f\"  - Total Edges: {len(df_p2p)}\")\n",
    "\n",
    "# 验证 Protein-Cell Line 边\n",
    "print(f\"\\nProtein-Cell Line Network:\")\n",
    "print(f\"  - Unique Proteins: {df_p2cl['source'].nunique()}\")\n",
    "print(f\"  - Unique Cell Lines: {df_p2cl['target'].nunique()}\")\n",
    "print(f\"  - Total Edges: {len(df_p2cl)}\")\n",
    "\n",
    "# 检查是否有空值\n",
    "print(f\"\\nAny NaN in P2P? {df_p2p.isnull().any().any()}\")\n",
    "print(f\"Any NaN in P2CL? {df_p2cl.isnull().any().any()}\")"
   ]
  }
 ],
 "metadata": {
  "kernelspec": {
   "display_name": "Python 3 (ipykernel)",
   "language": "python",
   "name": "python3"
  },
  "language_info": {
   "codemirror_mode": {
    "name": "ipython",
    "version": 3
   },
   "file_extension": ".py",
   "mimetype": "text/x-python",
   "name": "python",
   "nbconvert_exporter": "python",
   "pygments_lexer": "ipython3",
   "version": "3.9.23"
  }
 },
 "nbformat": 4,
 "nbformat_minor": 5
}
